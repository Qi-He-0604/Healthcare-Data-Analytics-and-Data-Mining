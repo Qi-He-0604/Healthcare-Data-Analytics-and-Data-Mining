{
 "cells": [
  {
   "cell_type": "code",
   "execution_count": 2,
   "metadata": {},
   "outputs": [],
   "source": [
    "import numpy as np\n",
    "import pandas as pd\n",
    "import matplotlib.pyplot as plt"
   ]
  },
  {
   "cell_type": "code",
   "execution_count": 3,
   "metadata": {},
   "outputs": [
    {
     "name": "stderr",
     "output_type": "stream",
     "text": [
      "C:\\Users\\jiaji\\Anaconda3\\lib\\site-packages\\IPython\\core\\interactiveshell.py:2785: DtypeWarning: Columns (2,5,8,54,55,73,74,75,76,78) have mixed types. Specify dtype option on import or set low_memory=False.\n",
      "  interactivity=interactivity, compiler=compiler, result=result)\n"
     ]
    }
   ],
   "source": [
    "#import data\n",
    "path=r\"C:\\Users\\jiaji\\Desktop\\VTINP16_upd.csv\"\n",
    "VTINP16_upd=pd.read_csv(path)"
   ]
  },
  {
   "cell_type": "code",
   "execution_count": 4,
   "metadata": {},
   "outputs": [
    {
     "data": {
      "text/html": [
       "<div>\n",
       "<style scoped>\n",
       "    .dataframe tbody tr th:only-of-type {\n",
       "        vertical-align: middle;\n",
       "    }\n",
       "\n",
       "    .dataframe tbody tr th {\n",
       "        vertical-align: top;\n",
       "    }\n",
       "\n",
       "    .dataframe thead th {\n",
       "        text-align: right;\n",
       "    }\n",
       "</style>\n",
       "<table border=\"1\" class=\"dataframe\">\n",
       "  <thead>\n",
       "    <tr style=\"text-align: right;\">\n",
       "      <th></th>\n",
       "      <th>hnum2</th>\n",
       "      <th>ATYPE</th>\n",
       "      <th>asour</th>\n",
       "      <th>intage</th>\n",
       "      <th>TXTZIP</th>\n",
       "      <th>sex</th>\n",
       "      <th>dstat</th>\n",
       "      <th>PPAY</th>\n",
       "      <th>CHRGS</th>\n",
       "      <th>DX1</th>\n",
       "      <th>...</th>\n",
       "      <th>AFLAG</th>\n",
       "      <th>UNIQ</th>\n",
       "      <th>ADMID_QTR</th>\n",
       "      <th>DISCD_QTR</th>\n",
       "      <th>CHRGS_HCIA</th>\n",
       "      <th>SCUD</th>\n",
       "      <th>DRG</th>\n",
       "      <th>MDC</th>\n",
       "      <th>sdf</th>\n",
       "      <th>GROUPER</th>\n",
       "    </tr>\n",
       "  </thead>\n",
       "  <tbody>\n",
       "    <tr>\n",
       "      <th>0</th>\n",
       "      <td>11</td>\n",
       "      <td>3</td>\n",
       "      <td>1</td>\n",
       "      <td>14</td>\n",
       "      <td>050</td>\n",
       "      <td>2</td>\n",
       "      <td>6</td>\n",
       "      <td>1</td>\n",
       "      <td>67375.25</td>\n",
       "      <td>Z5189</td>\n",
       "      <td>...</td>\n",
       "      <td>1</td>\n",
       "      <td>254</td>\n",
       "      <td>4</td>\n",
       "      <td>1</td>\n",
       "      <td>67375.25</td>\n",
       "      <td></td>\n",
       "      <td>949</td>\n",
       "      <td>23</td>\n",
       "      <td>0</td>\n",
       "      <td>33</td>\n",
       "    </tr>\n",
       "    <tr>\n",
       "      <th>1</th>\n",
       "      <td>11</td>\n",
       "      <td>3</td>\n",
       "      <td>3</td>\n",
       "      <td>14</td>\n",
       "      <td>050</td>\n",
       "      <td>1</td>\n",
       "      <td>2</td>\n",
       "      <td>1</td>\n",
       "      <td>22886</td>\n",
       "      <td>Z5189</td>\n",
       "      <td>...</td>\n",
       "      <td>0</td>\n",
       "      <td>265</td>\n",
       "      <td>4</td>\n",
       "      <td>1</td>\n",
       "      <td>22886</td>\n",
       "      <td></td>\n",
       "      <td>949</td>\n",
       "      <td>23</td>\n",
       "      <td>0</td>\n",
       "      <td>33</td>\n",
       "    </tr>\n",
       "    <tr>\n",
       "      <th>2</th>\n",
       "      <td>11</td>\n",
       "      <td>3</td>\n",
       "      <td>1</td>\n",
       "      <td>14</td>\n",
       "      <td>057</td>\n",
       "      <td>2</td>\n",
       "      <td>2</td>\n",
       "      <td>1</td>\n",
       "      <td>120544.05</td>\n",
       "      <td>Z4789</td>\n",
       "      <td>...</td>\n",
       "      <td>0</td>\n",
       "      <td>271</td>\n",
       "      <td>4</td>\n",
       "      <td>1</td>\n",
       "      <td>120544.05</td>\n",
       "      <td></td>\n",
       "      <td>560</td>\n",
       "      <td>8</td>\n",
       "      <td>0</td>\n",
       "      <td>33</td>\n",
       "    </tr>\n",
       "    <tr>\n",
       "      <th>3</th>\n",
       "      <td>11</td>\n",
       "      <td>3</td>\n",
       "      <td>1</td>\n",
       "      <td>14</td>\n",
       "      <td>051</td>\n",
       "      <td>2</td>\n",
       "      <td>6</td>\n",
       "      <td>1</td>\n",
       "      <td>32325.8</td>\n",
       "      <td>S72001D</td>\n",
       "      <td>...</td>\n",
       "      <td>0</td>\n",
       "      <td>285</td>\n",
       "      <td>4</td>\n",
       "      <td>1</td>\n",
       "      <td>32325.8</td>\n",
       "      <td></td>\n",
       "      <td>561</td>\n",
       "      <td>8</td>\n",
       "      <td>0</td>\n",
       "      <td>33</td>\n",
       "    </tr>\n",
       "    <tr>\n",
       "      <th>4</th>\n",
       "      <td>11</td>\n",
       "      <td>3</td>\n",
       "      <td>1</td>\n",
       "      <td>12</td>\n",
       "      <td>050</td>\n",
       "      <td>2</td>\n",
       "      <td>6</td>\n",
       "      <td>7</td>\n",
       "      <td>29244.1</td>\n",
       "      <td>C3490</td>\n",
       "      <td>...</td>\n",
       "      <td>0</td>\n",
       "      <td>305</td>\n",
       "      <td>4</td>\n",
       "      <td>1</td>\n",
       "      <td>29244.1</td>\n",
       "      <td></td>\n",
       "      <td>181</td>\n",
       "      <td>4</td>\n",
       "      <td>0</td>\n",
       "      <td>33</td>\n",
       "    </tr>\n",
       "  </tbody>\n",
       "</table>\n",
       "<p>5 rows × 79 columns</p>\n",
       "</div>"
      ],
      "text/plain": [
       "   hnum2  ATYPE asour  intage TXTZIP sex  dstat  PPAY      CHRGS      DX1  \\\n",
       "0     11      3     1      14    050   2      6     1   67375.25    Z5189   \n",
       "1     11      3     3      14    050   1      2     1      22886    Z5189   \n",
       "2     11      3     1      14    057   2      2     1  120544.05    Z4789   \n",
       "3     11      3     1      14    051   2      6     1    32325.8  S72001D   \n",
       "4     11      3     1      12    050   2      6     7    29244.1    C3490   \n",
       "\n",
       "    ...   AFLAG UNIQ ADMID_QTR DISCD_QTR CHRGS_HCIA SCUD  DRG MDC sdf GROUPER  \n",
       "0   ...       1  254         4         1   67375.25       949  23   0      33  \n",
       "1   ...       0  265         4         1      22886       949  23   0      33  \n",
       "2   ...       0  271         4         1  120544.05       560   8   0      33  \n",
       "3   ...       0  285         4         1    32325.8       561   8   0      33  \n",
       "4   ...       0  305         4         1    29244.1       181   4   0      33  \n",
       "\n",
       "[5 rows x 79 columns]"
      ]
     },
     "execution_count": 4,
     "metadata": {},
     "output_type": "execute_result"
    }
   ],
   "source": [
    "VTINP16_upd.head()"
   ]
  },
  {
   "cell_type": "code",
   "execution_count": 5,
   "metadata": {},
   "outputs": [
    {
     "data": {
      "text/plain": [
       "1453"
      ]
     },
     "execution_count": 5,
     "metadata": {},
     "output_type": "execute_result"
    }
   ],
   "source": [
    "#calculate the number of patients which MDC=1,this is total market size(Diseases and Disorders of the Brain and Nervous System )\n",
    "len(np.unique(VTINP16_upd[(VTINP16_upd[\"MDC\"]==1)].UNIQ))"
   ]
  },
  {
   "cell_type": "code",
   "execution_count": 6,
   "metadata": {},
   "outputs": [
    {
     "data": {
      "text/plain": [
       "array([ 1,  2,  3,  4,  5,  6,  8,  9, 10, 11, 12, 14, 15, 16],\n",
       "      dtype=int64)"
      ]
     },
     "execution_count": 6,
     "metadata": {},
     "output_type": "execute_result"
    }
   ],
   "source": [
    "#which hospitals provide surgey or health care in Diseases and Disorders of the Brain and Nervous System\n",
    "np.unique(VTINP16_upd[(VTINP16_upd[\"MDC\"]==1)].hnum2)"
   ]
  },
  {
   "cell_type": "code",
   "execution_count": 7,
   "metadata": {},
   "outputs": [
    {
     "data": {
      "text/plain": [
       "27"
      ]
     },
     "execution_count": 7,
     "metadata": {},
     "output_type": "execute_result"
    }
   ],
   "source": [
    "#calculate the number of patients which MDC=1 and hnum2=1\n",
    "len(np.unique(VTINP16_upd[(VTINP16_upd[\"MDC\"]==1)&(VTINP16_upd[\"hnum2\"]==1)].UNIQ))"
   ]
  },
  {
   "cell_type": "code",
   "execution_count": 8,
   "metadata": {},
   "outputs": [
    {
     "data": {
      "text/plain": [
       "20"
      ]
     },
     "execution_count": 8,
     "metadata": {},
     "output_type": "execute_result"
    }
   ],
   "source": [
    "#calculate the number of patients which MDC=1 and hnum2=2\n",
    "len(np.unique(VTINP16_upd[(VTINP16_upd[\"MDC\"]==1)&(VTINP16_upd[\"hnum2\"]==2)].UNIQ))"
   ]
  },
  {
   "cell_type": "code",
   "execution_count": 9,
   "metadata": {},
   "outputs": [
    {
     "data": {
      "text/plain": [
       "31"
      ]
     },
     "execution_count": 9,
     "metadata": {},
     "output_type": "execute_result"
    }
   ],
   "source": [
    "#calculate the number of patients which MDC=1 and hnum2=3\n",
    "len(np.unique(VTINP16_upd[(VTINP16_upd[\"MDC\"]==1)&(VTINP16_upd[\"hnum2\"]==3)].UNIQ))"
   ]
  },
  {
   "cell_type": "code",
   "execution_count": 10,
   "metadata": {},
   "outputs": [
    {
     "data": {
      "text/plain": [
       "9"
      ]
     },
     "execution_count": 10,
     "metadata": {},
     "output_type": "execute_result"
    }
   ],
   "source": [
    "#calculate the number of patients which MDC=1 and hnum2=4\n",
    "len(np.unique(VTINP16_upd[(VTINP16_upd[\"MDC\"]==1)&(VTINP16_upd[\"hnum2\"]==4)].UNIQ))"
   ]
  },
  {
   "cell_type": "code",
   "execution_count": 11,
   "metadata": {},
   "outputs": [
    {
     "data": {
      "text/plain": [
       "1073"
      ]
     },
     "execution_count": 11,
     "metadata": {},
     "output_type": "execute_result"
    }
   ],
   "source": [
    "#calculate the number of patients which MDC=1 and hnum2=5\n",
    "len(np.unique(VTINP16_upd[(VTINP16_upd[\"MDC\"]==1)&(VTINP16_upd[\"hnum2\"]==5)].UNIQ))"
   ]
  },
  {
   "cell_type": "code",
   "execution_count": 12,
   "metadata": {},
   "outputs": [
    {
     "data": {
      "text/plain": [
       "70"
      ]
     },
     "execution_count": 12,
     "metadata": {},
     "output_type": "execute_result"
    }
   ],
   "source": [
    "#calculate the number of patients which MDC=1 and hnum2=6\n",
    "len(np.unique(VTINP16_upd[(VTINP16_upd[\"MDC\"]==1)&(VTINP16_upd[\"hnum2\"]==6)].UNIQ))"
   ]
  },
  {
   "cell_type": "code",
   "execution_count": 13,
   "metadata": {},
   "outputs": [
    {
     "data": {
      "text/plain": [
       "97"
      ]
     },
     "execution_count": 13,
     "metadata": {},
     "output_type": "execute_result"
    }
   ],
   "source": [
    "#calculate the number of patients which MDC=1 and hnum2=8\n",
    "len(np.unique(VTINP16_upd[(VTINP16_upd[\"MDC\"]==1)&(VTINP16_upd[\"hnum2\"]==8)].UNIQ))"
   ]
  },
  {
   "cell_type": "code",
   "execution_count": 14,
   "metadata": {},
   "outputs": [
    {
     "data": {
      "text/plain": [
       "8"
      ]
     },
     "execution_count": 14,
     "metadata": {},
     "output_type": "execute_result"
    }
   ],
   "source": [
    "#calculate the number of patients which MDC=1 and hnum2=9\n",
    "len(np.unique(VTINP16_upd[(VTINP16_upd[\"MDC\"]==1)&(VTINP16_upd[\"hnum2\"]==9)].UNIQ))"
   ]
  },
  {
   "cell_type": "code",
   "execution_count": 15,
   "metadata": {},
   "outputs": [
    {
     "data": {
      "text/plain": [
       "24"
      ]
     },
     "execution_count": 15,
     "metadata": {},
     "output_type": "execute_result"
    }
   ],
   "source": [
    "#calculate the number of patients which MDC=1 and hnum2=10\n",
    "len(np.unique(VTINP16_upd[(VTINP16_upd[\"MDC\"]==1)&(VTINP16_upd[\"hnum2\"]==10)].UNIQ))"
   ]
  },
  {
   "cell_type": "code",
   "execution_count": 16,
   "metadata": {},
   "outputs": [
    {
     "data": {
      "text/plain": [
       "4"
      ]
     },
     "execution_count": 16,
     "metadata": {},
     "output_type": "execute_result"
    }
   ],
   "source": [
    "#calculate the number of patients which MDC=1 and hnum2=11\n",
    "len(np.unique(VTINP16_upd[(VTINP16_upd[\"MDC\"]==1)&(VTINP16_upd[\"hnum2\"]==11)].UNIQ))"
   ]
  },
  {
   "cell_type": "code",
   "execution_count": 17,
   "metadata": {},
   "outputs": [
    {
     "data": {
      "text/plain": [
       "26"
      ]
     },
     "execution_count": 17,
     "metadata": {},
     "output_type": "execute_result"
    }
   ],
   "source": [
    "#calculate the number of patients which MDC=1 and hnum2=12\n",
    "len(np.unique(VTINP16_upd[(VTINP16_upd[\"MDC\"]==1)&(VTINP16_upd[\"hnum2\"]==12)].UNIQ))"
   ]
  },
  {
   "cell_type": "code",
   "execution_count": 18,
   "metadata": {},
   "outputs": [
    {
     "data": {
      "text/plain": [
       "4"
      ]
     },
     "execution_count": 18,
     "metadata": {},
     "output_type": "execute_result"
    }
   ],
   "source": [
    "#calculate the number of patients which MDC=1 and hnum2=14\n",
    "len(np.unique(VTINP16_upd[(VTINP16_upd[\"MDC\"]==1)&(VTINP16_upd[\"hnum2\"]==14)].UNIQ))"
   ]
  },
  {
   "cell_type": "code",
   "execution_count": 19,
   "metadata": {},
   "outputs": [
    {
     "data": {
      "text/plain": [
       "23"
      ]
     },
     "execution_count": 19,
     "metadata": {},
     "output_type": "execute_result"
    }
   ],
   "source": [
    "#calculate the number of patients which MDC=1 and hnum2=15\n",
    "len(np.unique(VTINP16_upd[(VTINP16_upd[\"MDC\"]==1)&(VTINP16_upd[\"hnum2\"]==15)].UNIQ))"
   ]
  },
  {
   "cell_type": "code",
   "execution_count": 20,
   "metadata": {},
   "outputs": [
    {
     "data": {
      "text/plain": [
       "37"
      ]
     },
     "execution_count": 20,
     "metadata": {},
     "output_type": "execute_result"
    }
   ],
   "source": [
    "#calculate the number of patients which MDC=1 and hnum2=16\n",
    "len(np.unique(VTINP16_upd[(VTINP16_upd[\"MDC\"]==1)&(VTINP16_upd[\"hnum2\"]==16)].UNIQ))"
   ]
  },
  {
   "cell_type": "code",
   "execution_count": 25,
   "metadata": {},
   "outputs": [],
   "source": [
    "HHI_MDC_1=np.sum((27/1453)**2+(20/1453)**2+(31/1453)**2+(9/1453)**2+(1073/1453)**2+(70/1453)**2+(97/1453)**2+(8/1453)**2+(24/1453)**2+(4/1453)**2+(26/1453)**2+(4/1453)**2+(23/1453)**2+(37/1453)**2)"
   ]
  },
  {
   "cell_type": "code",
   "execution_count": 26,
   "metadata": {},
   "outputs": [
    {
     "data": {
      "text/plain": [
       "0.5546845433114392"
      ]
     },
     "execution_count": 26,
     "metadata": {},
     "output_type": "execute_result"
    }
   ],
   "source": [
    "HHI_MDC_1"
   ]
  },
  {
   "cell_type": "code",
   "execution_count": 43,
   "metadata": {},
   "outputs": [
    {
     "data": {
      "text/plain": [
       "array([ 1,  2,  3,  4,  5,  6,  8,  9, 10, 12, 15, 16], dtype=int64)"
      ]
     },
     "execution_count": 43,
     "metadata": {},
     "output_type": "execute_result"
    }
   ],
   "source": [
    "#which hospitals provide surgey or health care in Pregnancy, Childbirth And Puerperium\n",
    "np.unique(VTINP16_upd[(VTINP16_upd[\"MDC\"]==14)].hnum2)"
   ]
  },
  {
   "cell_type": "code",
   "execution_count": 57,
   "metadata": {},
   "outputs": [
    {
     "data": {
      "text/plain": [
       "2189"
      ]
     },
     "execution_count": 57,
     "metadata": {},
     "output_type": "execute_result"
    }
   ],
   "source": [
    "#calculate the number of patients which MDC=14,this is total market size(Pregnancy, Childbirth And Puerperium )\n",
    "len(np.unique(VTINP16_upd[(VTINP16_upd[\"MDC\"]==14)].UNIQ))"
   ]
  },
  {
   "cell_type": "code",
   "execution_count": 45,
   "metadata": {},
   "outputs": [
    {
     "data": {
      "text/plain": [
       "93"
      ]
     },
     "execution_count": 45,
     "metadata": {},
     "output_type": "execute_result"
    }
   ],
   "source": [
    "#calculate the number of patients which MDC=14 and hnum2=1\n",
    "len(np.unique(VTINP16_upd[(VTINP16_upd[\"MDC\"]==14)&(VTINP16_upd[\"hnum2\"]==1)].UNIQ))"
   ]
  },
  {
   "cell_type": "code",
   "execution_count": 46,
   "metadata": {},
   "outputs": [
    {
     "data": {
      "text/plain": [
       "41"
      ]
     },
     "execution_count": 46,
     "metadata": {},
     "output_type": "execute_result"
    }
   ],
   "source": [
    "#calculate the number of patients which MDC=14 and hnum2=2\n",
    "len(np.unique(VTINP16_upd[(VTINP16_upd[\"MDC\"]==14)&(VTINP16_upd[\"hnum2\"]==2)].UNIQ))"
   ]
  },
  {
   "cell_type": "code",
   "execution_count": 47,
   "metadata": {},
   "outputs": [
    {
     "data": {
      "text/plain": [
       "118"
      ]
     },
     "execution_count": 47,
     "metadata": {},
     "output_type": "execute_result"
    }
   ],
   "source": [
    "#calculate the number of patients which MDC=14 and hnum2=3\n",
    "len(np.unique(VTINP16_upd[(VTINP16_upd[\"MDC\"]==14)&(VTINP16_upd[\"hnum2\"]==3)].UNIQ))"
   ]
  },
  {
   "cell_type": "code",
   "execution_count": 48,
   "metadata": {},
   "outputs": [
    {
     "data": {
      "text/plain": [
       "59"
      ]
     },
     "execution_count": 48,
     "metadata": {},
     "output_type": "execute_result"
    }
   ],
   "source": [
    "#calculate the number of patients which MDC=14 and hnum2=4\n",
    "len(np.unique(VTINP16_upd[(VTINP16_upd[\"MDC\"]==14)&(VTINP16_upd[\"hnum2\"]==4)].UNIQ))"
   ]
  },
  {
   "cell_type": "code",
   "execution_count": 49,
   "metadata": {},
   "outputs": [
    {
     "data": {
      "text/plain": [
       "1261"
      ]
     },
     "execution_count": 49,
     "metadata": {},
     "output_type": "execute_result"
    }
   ],
   "source": [
    "#calculate the number of patients which MDC=14 and hnum2=5\n",
    "len(np.unique(VTINP16_upd[(VTINP16_upd[\"MDC\"]==14)&(VTINP16_upd[\"hnum2\"]==5)].UNIQ))"
   ]
  },
  {
   "cell_type": "code",
   "execution_count": 50,
   "metadata": {},
   "outputs": [
    {
     "data": {
      "text/plain": [
       "115"
      ]
     },
     "execution_count": 50,
     "metadata": {},
     "output_type": "execute_result"
    }
   ],
   "source": [
    "#calculate the number of patients which MDC=14 and hnum2=6\n",
    "len(np.unique(VTINP16_upd[(VTINP16_upd[\"MDC\"]==14)&(VTINP16_upd[\"hnum2\"]==6)].UNIQ))"
   ]
  },
  {
   "cell_type": "code",
   "execution_count": 51,
   "metadata": {},
   "outputs": [
    {
     "data": {
      "text/plain": [
       "91"
      ]
     },
     "execution_count": 51,
     "metadata": {},
     "output_type": "execute_result"
    }
   ],
   "source": [
    "#calculate the number of patients which MDC=14 and hnum2=8\n",
    "len(np.unique(VTINP16_upd[(VTINP16_upd[\"MDC\"]==14)&(VTINP16_upd[\"hnum2\"]==8)].UNIQ))"
   ]
  },
  {
   "cell_type": "code",
   "execution_count": 52,
   "metadata": {},
   "outputs": [
    {
     "data": {
      "text/plain": [
       "98"
      ]
     },
     "execution_count": 52,
     "metadata": {},
     "output_type": "execute_result"
    }
   ],
   "source": [
    "#calculate the number of patients which MDC=14 and hnum2=9\n",
    "len(np.unique(VTINP16_upd[(VTINP16_upd[\"MDC\"]==14)&(VTINP16_upd[\"hnum2\"]==9)].UNIQ))"
   ]
  },
  {
   "cell_type": "code",
   "execution_count": 53,
   "metadata": {},
   "outputs": [
    {
     "data": {
      "text/plain": [
       "56"
      ]
     },
     "execution_count": 53,
     "metadata": {},
     "output_type": "execute_result"
    }
   ],
   "source": [
    "#calculate the number of patients which MDC=14 and hnum2=10\n",
    "len(np.unique(VTINP16_upd[(VTINP16_upd[\"MDC\"]==14)&(VTINP16_upd[\"hnum2\"]==10)].UNIQ))"
   ]
  },
  {
   "cell_type": "code",
   "execution_count": 54,
   "metadata": {},
   "outputs": [
    {
     "data": {
      "text/plain": [
       "45"
      ]
     },
     "execution_count": 54,
     "metadata": {},
     "output_type": "execute_result"
    }
   ],
   "source": [
    "#calculate the number of patients which MDC=14 and hnum2=12\n",
    "len(np.unique(VTINP16_upd[(VTINP16_upd[\"MDC\"]==14)&(VTINP16_upd[\"hnum2\"]==12)].UNIQ))"
   ]
  },
  {
   "cell_type": "code",
   "execution_count": 55,
   "metadata": {},
   "outputs": [
    {
     "data": {
      "text/plain": [
       "110"
      ]
     },
     "execution_count": 55,
     "metadata": {},
     "output_type": "execute_result"
    }
   ],
   "source": [
    "#calculate the number of patients which MDC=14 and hnum2=15\n",
    "len(np.unique(VTINP16_upd[(VTINP16_upd[\"MDC\"]==14)&(VTINP16_upd[\"hnum2\"]==15)].UNIQ))"
   ]
  },
  {
   "cell_type": "code",
   "execution_count": 56,
   "metadata": {},
   "outputs": [
    {
     "data": {
      "text/plain": [
       "102"
      ]
     },
     "execution_count": 56,
     "metadata": {},
     "output_type": "execute_result"
    }
   ],
   "source": [
    "#calculate the number of patients which MDC=14 and hnum2=16\n",
    "len(np.unique(VTINP16_upd[(VTINP16_upd[\"MDC\"]==14)&(VTINP16_upd[\"hnum2\"]==16)].UNIQ))"
   ]
  },
  {
   "cell_type": "code",
   "execution_count": 23,
   "metadata": {},
   "outputs": [],
   "source": [
    "HHI_MDC_14=np.sum((93/2189)**2+(41/2189)**2+(118/2189)**2+(59/2189)**2+(115/2189)**2+(1261/2189)**2+(91/2189)**2+(98/2189)**2+(56/2189)**2+(45/2189)**2+(110/2189)**2+(102/2189)**2)"
   ]
  },
  {
   "cell_type": "code",
   "execution_count": 24,
   "metadata": {},
   "outputs": [
    {
     "data": {
      "text/plain": [
       "0.3499016324197507"
      ]
     },
     "execution_count": 24,
     "metadata": {},
     "output_type": "execute_result"
    }
   ],
   "source": [
    "HHI_MDC_14"
   ]
  },
  {
   "cell_type": "code",
   "execution_count": 75,
   "metadata": {},
   "outputs": [
    {
     "data": {
      "text/plain": [
       "56880525.760000005"
      ]
     },
     "execution_count": 75,
     "metadata": {},
     "output_type": "execute_result"
    }
   ],
   "source": [
    "#calculate the total charges which MDC=1,this is total market size(Diseases and Disorders of the Brain and Nervous System )\n",
    "np.sum((VTINP16_upd[(VTINP16_upd[\"MDC\"]==1)].CHRGS).astype(float))"
   ]
  },
  {
   "cell_type": "code",
   "execution_count": 76,
   "metadata": {},
   "outputs": [
    {
     "data": {
      "text/plain": [
       "314139.87"
      ]
     },
     "execution_count": 76,
     "metadata": {},
     "output_type": "execute_result"
    }
   ],
   "source": [
    "np.sum((VTINP16_upd[(VTINP16_upd[\"MDC\"]==1)&(VTINP16_upd[\"hnum2\"]==1)].CHRGS).astype(float))"
   ]
  },
  {
   "cell_type": "code",
   "execution_count": 77,
   "metadata": {},
   "outputs": [
    {
     "data": {
      "text/plain": [
       "389378.01"
      ]
     },
     "execution_count": 77,
     "metadata": {},
     "output_type": "execute_result"
    }
   ],
   "source": [
    "np.sum((VTINP16_upd[(VTINP16_upd[\"MDC\"]==1)&(VTINP16_upd[\"hnum2\"]==2)].CHRGS).astype(float))"
   ]
  },
  {
   "cell_type": "code",
   "execution_count": 78,
   "metadata": {},
   "outputs": [
    {
     "data": {
      "text/plain": [
       "703901.52"
      ]
     },
     "execution_count": 78,
     "metadata": {},
     "output_type": "execute_result"
    }
   ],
   "source": [
    "np.sum((VTINP16_upd[(VTINP16_upd[\"MDC\"]==1)&(VTINP16_upd[\"hnum2\"]==3)].CHRGS).astype(float))"
   ]
  },
  {
   "cell_type": "code",
   "execution_count": 79,
   "metadata": {},
   "outputs": [
    {
     "data": {
      "text/plain": [
       "67160.61"
      ]
     },
     "execution_count": 79,
     "metadata": {},
     "output_type": "execute_result"
    }
   ],
   "source": [
    "np.sum((VTINP16_upd[(VTINP16_upd[\"MDC\"]==1)&(VTINP16_upd[\"hnum2\"]==4)].CHRGS).astype(float))"
   ]
  },
  {
   "cell_type": "code",
   "execution_count": 80,
   "metadata": {},
   "outputs": [
    {
     "data": {
      "text/plain": [
       "49427932.31"
      ]
     },
     "execution_count": 80,
     "metadata": {},
     "output_type": "execute_result"
    }
   ],
   "source": [
    "np.sum((VTINP16_upd[(VTINP16_upd[\"MDC\"]==1)&(VTINP16_upd[\"hnum2\"]==5)].CHRGS).astype(float))"
   ]
  },
  {
   "cell_type": "code",
   "execution_count": 81,
   "metadata": {},
   "outputs": [
    {
     "data": {
      "text/plain": [
       "1375359.51"
      ]
     },
     "execution_count": 81,
     "metadata": {},
     "output_type": "execute_result"
    }
   ],
   "source": [
    "np.sum((VTINP16_upd[(VTINP16_upd[\"MDC\"]==1)&(VTINP16_upd[\"hnum2\"]==6)].CHRGS).astype(float))"
   ]
  },
  {
   "cell_type": "code",
   "execution_count": 82,
   "metadata": {},
   "outputs": [
    {
     "data": {
      "text/plain": [
       "2458792.7600000002"
      ]
     },
     "execution_count": 82,
     "metadata": {},
     "output_type": "execute_result"
    }
   ],
   "source": [
    "np.sum((VTINP16_upd[(VTINP16_upd[\"MDC\"]==1)&(VTINP16_upd[\"hnum2\"]==8)].CHRGS).astype(float))"
   ]
  },
  {
   "cell_type": "code",
   "execution_count": 83,
   "metadata": {},
   "outputs": [
    {
     "data": {
      "text/plain": [
       "117255.2"
      ]
     },
     "execution_count": 83,
     "metadata": {},
     "output_type": "execute_result"
    }
   ],
   "source": [
    "np.sum((VTINP16_upd[(VTINP16_upd[\"MDC\"]==1)&(VTINP16_upd[\"hnum2\"]==9)].CHRGS).astype(float))"
   ]
  },
  {
   "cell_type": "code",
   "execution_count": 84,
   "metadata": {},
   "outputs": [
    {
     "data": {
      "text/plain": [
       "395056.21"
      ]
     },
     "execution_count": 84,
     "metadata": {},
     "output_type": "execute_result"
    }
   ],
   "source": [
    "np.sum((VTINP16_upd[(VTINP16_upd[\"MDC\"]==1)&(VTINP16_upd[\"hnum2\"]==10)].CHRGS).astype(float))"
   ]
  },
  {
   "cell_type": "code",
   "execution_count": 85,
   "metadata": {},
   "outputs": [
    {
     "data": {
      "text/plain": [
       "76810.55"
      ]
     },
     "execution_count": 85,
     "metadata": {},
     "output_type": "execute_result"
    }
   ],
   "source": [
    "np.sum((VTINP16_upd[(VTINP16_upd[\"MDC\"]==1)&(VTINP16_upd[\"hnum2\"]==11)].CHRGS).astype(float))"
   ]
  },
  {
   "cell_type": "code",
   "execution_count": 86,
   "metadata": {},
   "outputs": [
    {
     "data": {
      "text/plain": [
       "431131.3"
      ]
     },
     "execution_count": 86,
     "metadata": {},
     "output_type": "execute_result"
    }
   ],
   "source": [
    "np.sum((VTINP16_upd[(VTINP16_upd[\"MDC\"]==1)&(VTINP16_upd[\"hnum2\"]==12)].CHRGS).astype(float))"
   ]
  },
  {
   "cell_type": "code",
   "execution_count": 87,
   "metadata": {},
   "outputs": [
    {
     "data": {
      "text/plain": [
       "49496.270000000004"
      ]
     },
     "execution_count": 87,
     "metadata": {},
     "output_type": "execute_result"
    }
   ],
   "source": [
    "np.sum((VTINP16_upd[(VTINP16_upd[\"MDC\"]==1)&(VTINP16_upd[\"hnum2\"]==14)].CHRGS).astype(float))"
   ]
  },
  {
   "cell_type": "code",
   "execution_count": 88,
   "metadata": {},
   "outputs": [
    {
     "data": {
      "text/plain": [
       "474010.64999999997"
      ]
     },
     "execution_count": 88,
     "metadata": {},
     "output_type": "execute_result"
    }
   ],
   "source": [
    "np.sum((VTINP16_upd[(VTINP16_upd[\"MDC\"]==1)&(VTINP16_upd[\"hnum2\"]==15)].CHRGS).astype(float))"
   ]
  },
  {
   "cell_type": "code",
   "execution_count": 89,
   "metadata": {},
   "outputs": [
    {
     "data": {
      "text/plain": [
       "600100.99"
      ]
     },
     "execution_count": 89,
     "metadata": {},
     "output_type": "execute_result"
    }
   ],
   "source": [
    "np.sum((VTINP16_upd[(VTINP16_upd[\"MDC\"]==1)&(VTINP16_upd[\"hnum2\"]==16)].CHRGS).astype(float))"
   ]
  },
  {
   "cell_type": "code",
   "execution_count": 27,
   "metadata": {},
   "outputs": [],
   "source": [
    "HHI_MDC_1=np.sum((314139.87/56880525)**2+(389378.01/56880525)**2+(703901.52/56880525)**2+(67160.61/56880525)**2+(49427932.31/56880525)**2+(1375359.51/56880525)**2+(2458792.7600000002/56880525)**2+(117255.2/56880525)**2+(395056.21/56880525)**2+(76810.55/56880525)**2+(431131.3/56880525)**2+(49496.270000000004/56880525)**2+(474010.64999999997/56880525)**2+(600100.99/56880525)**2)"
   ]
  },
  {
   "cell_type": "code",
   "execution_count": 28,
   "metadata": {},
   "outputs": [
    {
     "data": {
      "text/plain": [
       "0.7581014276040111"
      ]
     },
     "execution_count": 28,
     "metadata": {},
     "output_type": "execute_result"
    }
   ],
   "source": [
    "HHI_MDC_1"
   ]
  },
  {
   "cell_type": "code",
   "execution_count": 92,
   "metadata": {},
   "outputs": [
    {
     "data": {
      "text/plain": [
       "25407019.87"
      ]
     },
     "execution_count": 92,
     "metadata": {},
     "output_type": "execute_result"
    }
   ],
   "source": [
    "#calculate the total charges which MDC=1,this is total market size(Diseases and Disorders of the Brain and Nervous System )\n",
    "np.sum((VTINP16_upd[(VTINP16_upd[\"MDC\"]==14)].CHRGS).astype(float))"
   ]
  },
  {
   "cell_type": "code",
   "execution_count": 93,
   "metadata": {},
   "outputs": [
    {
     "data": {
      "text/plain": [
       "618082.3"
      ]
     },
     "execution_count": 93,
     "metadata": {},
     "output_type": "execute_result"
    }
   ],
   "source": [
    "np.sum((VTINP16_upd[(VTINP16_upd[\"MDC\"]==14)&(VTINP16_upd[\"hnum2\"]==1)].CHRGS).astype(float))"
   ]
  },
  {
   "cell_type": "code",
   "execution_count": 94,
   "metadata": {},
   "outputs": [
    {
     "data": {
      "text/plain": [
       "517079.64"
      ]
     },
     "execution_count": 94,
     "metadata": {},
     "output_type": "execute_result"
    }
   ],
   "source": [
    "np.sum((VTINP16_upd[(VTINP16_upd[\"MDC\"]==14)&(VTINP16_upd[\"hnum2\"]==2)].CHRGS).astype(float))"
   ]
  },
  {
   "cell_type": "code",
   "execution_count": 95,
   "metadata": {},
   "outputs": [
    {
     "data": {
      "text/plain": [
       "1479521.5999999999"
      ]
     },
     "execution_count": 95,
     "metadata": {},
     "output_type": "execute_result"
    }
   ],
   "source": [
    "np.sum((VTINP16_upd[(VTINP16_upd[\"MDC\"]==14)&(VTINP16_upd[\"hnum2\"]==3)].CHRGS).astype(float))"
   ]
  },
  {
   "cell_type": "code",
   "execution_count": 96,
   "metadata": {},
   "outputs": [
    {
     "data": {
      "text/plain": [
       "432259.17"
      ]
     },
     "execution_count": 96,
     "metadata": {},
     "output_type": "execute_result"
    }
   ],
   "source": [
    "np.sum((VTINP16_upd[(VTINP16_upd[\"MDC\"]==14)&(VTINP16_upd[\"hnum2\"]==4)].CHRGS).astype(float))"
   ]
  },
  {
   "cell_type": "code",
   "execution_count": 97,
   "metadata": {},
   "outputs": [
    {
     "data": {
      "text/plain": [
       "15396513.52"
      ]
     },
     "execution_count": 97,
     "metadata": {},
     "output_type": "execute_result"
    }
   ],
   "source": [
    "np.sum((VTINP16_upd[(VTINP16_upd[\"MDC\"]==14)&(VTINP16_upd[\"hnum2\"]==5)].CHRGS).astype(float))"
   ]
  },
  {
   "cell_type": "code",
   "execution_count": 98,
   "metadata": {},
   "outputs": [
    {
     "data": {
      "text/plain": [
       "1414416.29"
      ]
     },
     "execution_count": 98,
     "metadata": {},
     "output_type": "execute_result"
    }
   ],
   "source": [
    "np.sum((VTINP16_upd[(VTINP16_upd[\"MDC\"]==14)&(VTINP16_upd[\"hnum2\"]==6)].CHRGS).astype(float))"
   ]
  },
  {
   "cell_type": "code",
   "execution_count": 99,
   "metadata": {},
   "outputs": [
    {
     "data": {
      "text/plain": [
       "1071285.84"
      ]
     },
     "execution_count": 99,
     "metadata": {},
     "output_type": "execute_result"
    }
   ],
   "source": [
    "np.sum((VTINP16_upd[(VTINP16_upd[\"MDC\"]==14)&(VTINP16_upd[\"hnum2\"]==8)].CHRGS).astype(float))"
   ]
  },
  {
   "cell_type": "code",
   "execution_count": 100,
   "metadata": {},
   "outputs": [
    {
     "data": {
      "text/plain": [
       "1203521.13"
      ]
     },
     "execution_count": 100,
     "metadata": {},
     "output_type": "execute_result"
    }
   ],
   "source": [
    "np.sum((VTINP16_upd[(VTINP16_upd[\"MDC\"]==14)&(VTINP16_upd[\"hnum2\"]==9)].CHRGS).astype(float))"
   ]
  },
  {
   "cell_type": "code",
   "execution_count": 101,
   "metadata": {},
   "outputs": [
    {
     "data": {
      "text/plain": [
       "751947.1200000001"
      ]
     },
     "execution_count": 101,
     "metadata": {},
     "output_type": "execute_result"
    }
   ],
   "source": [
    "np.sum((VTINP16_upd[(VTINP16_upd[\"MDC\"]==14)&(VTINP16_upd[\"hnum2\"]==10)].CHRGS).astype(float))"
   ]
  },
  {
   "cell_type": "code",
   "execution_count": 102,
   "metadata": {},
   "outputs": [
    {
     "data": {
      "text/plain": [
       "487236.86"
      ]
     },
     "execution_count": 102,
     "metadata": {},
     "output_type": "execute_result"
    }
   ],
   "source": [
    "np.sum((VTINP16_upd[(VTINP16_upd[\"MDC\"]==14)&(VTINP16_upd[\"hnum2\"]==12)].CHRGS).astype(float))"
   ]
  },
  {
   "cell_type": "code",
   "execution_count": 103,
   "metadata": {},
   "outputs": [
    {
     "data": {
      "text/plain": [
       "1055768.12"
      ]
     },
     "execution_count": 103,
     "metadata": {},
     "output_type": "execute_result"
    }
   ],
   "source": [
    "np.sum((VTINP16_upd[(VTINP16_upd[\"MDC\"]==14)&(VTINP16_upd[\"hnum2\"]==15)].CHRGS).astype(float))"
   ]
  },
  {
   "cell_type": "code",
   "execution_count": 104,
   "metadata": {},
   "outputs": [
    {
     "data": {
      "text/plain": [
       "979388.28"
      ]
     },
     "execution_count": 104,
     "metadata": {},
     "output_type": "execute_result"
    }
   ],
   "source": [
    "np.sum((VTINP16_upd[(VTINP16_upd[\"MDC\"]==14)&(VTINP16_upd[\"hnum2\"]==16)].CHRGS).astype(float))"
   ]
  },
  {
   "cell_type": "code",
   "execution_count": 105,
   "metadata": {},
   "outputs": [],
   "source": [
    "HHI_MDC_14=np.sum((618082.3/25407019.87)**2+(517079.64/25407019.87)**2+(1479521.5999999999/25407019.87)**2+(432259.17/25407019.87)**2+(15396513.52/25407019.87)**2+(1414416.29/25407019.87)**2+(1071285.84/25407019.87)**2+(1203521.13/25407019.87)**2+(751947.1200000001/25407019.87)**2+(487236.86/25407019.87)**2+(1055768.12/25407019.87)**2+(979388.28/25407019.87)**2)"
   ]
  },
  {
   "cell_type": "code",
   "execution_count": 106,
   "metadata": {},
   "outputs": [
    {
     "data": {
      "text/plain": [
       "0.3834931544236406"
      ]
     },
     "execution_count": 106,
     "metadata": {},
     "output_type": "execute_result"
    }
   ],
   "source": [
    "HHI_MDC_14"
   ]
  }
 ],
 "metadata": {
  "kernelspec": {
   "display_name": "Python 3",
   "language": "python",
   "name": "python3"
  },
  "language_info": {
   "codemirror_mode": {
    "name": "ipython",
    "version": 3
   },
   "file_extension": ".py",
   "mimetype": "text/x-python",
   "name": "python",
   "nbconvert_exporter": "python",
   "pygments_lexer": "ipython3",
   "version": "3.7.0"
  }
 },
 "nbformat": 4,
 "nbformat_minor": 2
}
