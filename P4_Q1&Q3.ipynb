{
 "cells": [
  {
   "cell_type": "code",
   "execution_count": 80,
   "metadata": {},
   "outputs": [],
   "source": [
    "import pandas as pd\n",
    "import numpy as np\n",
    "import scipy.stats as stats\n",
    "import matplotlib.pyplot as plt"
   ]
  },
  {
   "cell_type": "markdown",
   "metadata": {},
   "source": [
    "# Question 1"
   ]
  },
  {
   "cell_type": "markdown",
   "metadata": {},
   "source": [
    "## Data Preparation"
   ]
  },
  {
   "cell_type": "code",
   "execution_count": 3,
   "metadata": {},
   "outputs": [
    {
     "name": "stderr",
     "output_type": "stream",
     "text": [
      "C:\\Anaconda\\lib\\site-packages\\IPython\\core\\interactiveshell.py:3057: DtypeWarning: Columns (2,5,54,55,56,57) have mixed types. Specify dtype option on import or set low_memory=False.\n",
      "  interactivity=interactivity, compiler=compiler, result=result)\n"
     ]
    }
   ],
   "source": [
    "outpatient = pd.read_csv('./VTOUTP16.TXT')"
   ]
  },
  {
   "cell_type": "code",
   "execution_count": 4,
   "metadata": {},
   "outputs": [],
   "source": [
    "ra = pd.read_csv('RA.csv')\n",
    "other_ra = pd.read_csv('Other_RA.csv')"
   ]
  },
  {
   "cell_type": "markdown",
   "metadata": {},
   "source": [
    "## Step 1: Identify the RA cohort using the outpatient file. "
   ]
  },
  {
   "cell_type": "code",
   "execution_count": 5,
   "metadata": {
    "scrolled": true
   },
   "outputs": [],
   "source": [
    "ra_outpatient = pd.DataFrame()\n",
    "for i in range(20):\n",
    "    temp = outpatient.merge(ra['ICD-10 Codes'], left_on= f'DX{i+1}', right_on='ICD-10 Codes')\n",
    "    ra_outpatient = pd.concat([ra_outpatient, temp])"
   ]
  },
  {
   "cell_type": "code",
   "execution_count": 6,
   "metadata": {
    "scrolled": true
   },
   "outputs": [],
   "source": [
    "other_ra_outpatient = pd.DataFrame()\n",
    "for i in range(20):\n",
    "    temp = outpatient.merge(other_ra['ICD-10 Codes'], left_on= f'DX{i+1}', right_on='ICD-10 Codes')\n",
    "    other_ra_outpatient = pd.concat([other_ra_outpatient, temp])"
   ]
  },
  {
   "cell_type": "code",
   "execution_count": 7,
   "metadata": {
    "scrolled": true
   },
   "outputs": [
    {
     "name": "stdout",
     "output_type": "stream",
     "text": [
      "(981, 71)\n"
     ]
    },
    {
     "data": {
      "text/plain": [
       "(976, 71)"
      ]
     },
     "execution_count": 7,
     "metadata": {},
     "output_type": "execute_result"
    }
   ],
   "source": [
    "print(ra_outpatient.shape)\n",
    "ra_outpatient.drop_duplicates(subset='Uniq').shape\n",
    "# 981 Diagnoses  976 patients"
   ]
  },
  {
   "cell_type": "code",
   "execution_count": 8,
   "metadata": {
    "scrolled": true
   },
   "outputs": [
    {
     "name": "stdout",
     "output_type": "stream",
     "text": [
      "(31, 71)\n"
     ]
    },
    {
     "data": {
      "text/plain": [
       "(30, 71)"
      ]
     },
     "execution_count": 8,
     "metadata": {},
     "output_type": "execute_result"
    }
   ],
   "source": [
    "print(other_ra_outpatient.shape)\n",
    "other_ra_outpatient.drop_duplicates(subset='Uniq').shape\n",
    "# 31 diagnoses 30 patients"
   ]
  },
  {
   "cell_type": "markdown",
   "metadata": {},
   "source": [
    "## Step 2: Identify the most common types of the RA"
   ]
  },
  {
   "cell_type": "code",
   "execution_count": 9,
   "metadata": {
    "scrolled": true
   },
   "outputs": [
    {
     "data": {
      "text/plain": [
       "ICD-10 Codes\n",
       "M069      909\n",
       "M0579      17\n",
       "M059        8\n",
       "M0600       6\n",
       "M0609       4\n",
       "M06871      4\n",
       "M06072      3\n",
       "M0570       2\n",
       "M06342      2\n",
       "M06341      2\n",
       "M06322      2\n",
       "M0689       2\n",
       "M06071      2\n",
       "M0680       2\n",
       "M06851      2\n",
       "M06861      2\n",
       "M06872      1\n",
       "M05741      1\n",
       "M05742      1\n",
       "M05761      1\n",
       "M05762      1\n",
       "M06832      1\n",
       "M05812      1\n",
       "M06031      1\n",
       "M06051      1\n",
       "M06842      1\n",
       "M06331      1\n",
       "M06041      1\n",
       "Name: Uniq, dtype: int64"
      ]
     },
     "execution_count": 9,
     "metadata": {},
     "output_type": "execute_result"
    }
   ],
   "source": [
    "ra_outpatient_freq = ra_outpatient.groupby('ICD-10 Codes')['Uniq'].count()\n",
    "ra_outpatient_freq.sort_values(ascending=False)\n",
    "# Top 3 M069. M0579, M059"
   ]
  },
  {
   "cell_type": "code",
   "execution_count": 10,
   "metadata": {
    "scrolled": false
   },
   "outputs": [
    {
     "data": {
      "text/plain": [
       "ICD-10 Codes\n",
       "M0510     21\n",
       "M05671     2\n",
       "M0519      2\n",
       "M061       1\n",
       "M05672     1\n",
       "M0560      1\n",
       "M05142     1\n",
       "M05141     1\n",
       "M0500      1\n",
       "Name: Uniq, dtype: int64"
      ]
     },
     "execution_count": 10,
     "metadata": {},
     "output_type": "execute_result"
    }
   ],
   "source": [
    "other_ra_outpatient_freq = other_ra_outpatient.groupby('ICD-10 Codes')['Uniq'].count()\n",
    "other_ra_outpatient_freq.sort_values(ascending=False)\n",
    "# Top 3 M510, M05671, M0519"
   ]
  },
  {
   "cell_type": "markdown",
   "metadata": {},
   "source": [
    "## Step 3: Gender differences in RA"
   ]
  },
  {
   "cell_type": "code",
   "execution_count": 11,
   "metadata": {},
   "outputs": [],
   "source": [
    "ra_outpatient['is_RA'] = 1\n",
    "outpatient_new = outpatient.merge(ra_outpatient[['Uniq', 'is_RA']].drop_duplicates(subset='Uniq'), how='left').fillna(0)"
   ]
  },
  {
   "cell_type": "code",
   "execution_count": 12,
   "metadata": {},
   "outputs": [],
   "source": [
    "other_ra_outpatient['is_other_RA'] = 1\n",
    "outpatient_new = outpatient_new.merge(other_ra_outpatient[['Uniq', 'is_other_RA']].drop_duplicates(subset='Uniq'), how='left').fillna(0)"
   ]
  },
  {
   "cell_type": "code",
   "execution_count": 13,
   "metadata": {},
   "outputs": [],
   "source": [
    "outpatient_new.sex.replace(' ', np.nan, inplace=True)"
   ]
  },
  {
   "cell_type": "code",
   "execution_count": 14,
   "metadata": {},
   "outputs": [],
   "source": [
    "outpatient_new.dropna(subset=['sex', 'is_RA', 'is_other_RA'], inplace=True)"
   ]
  },
  {
   "cell_type": "code",
   "execution_count": 15,
   "metadata": {},
   "outputs": [],
   "source": [
    "outpatient_new.sex = outpatient_new.sex.astype(int)\n",
    "outpatient_new.is_RA = outpatient_new.is_RA.astype(int)\n",
    "outpatient_new.is_other_RA = outpatient_new.is_other_RA.astype(int)"
   ]
  },
  {
   "cell_type": "markdown",
   "metadata": {},
   "source": [
    "### Gender bias in RA"
   ]
  },
  {
   "cell_type": "code",
   "execution_count": 16,
   "metadata": {},
   "outputs": [
    {
     "name": "stdout",
     "output_type": "stream",
     "text": [
      "Odds ratio: 2.3975543884127677\n",
      "p-value:  1.4457910557520762e-36\n"
     ]
    }
   ],
   "source": [
    "ra_xtab = outpatient_new.groupby(['sex', 'is_RA'])['Uniq'].count().unstack()\n",
    "oddsratio, pvalue = stats.fisher_exact(ra_xtab)\n",
    "print('Odds ratio:', oddsratio)\n",
    "print('p-value: ', pvalue)"
   ]
  },
  {
   "cell_type": "code",
   "execution_count": 17,
   "metadata": {},
   "outputs": [
    {
     "data": {
      "text/html": [
       "<div>\n",
       "<style scoped>\n",
       "    .dataframe tbody tr th:only-of-type {\n",
       "        vertical-align: middle;\n",
       "    }\n",
       "\n",
       "    .dataframe tbody tr th {\n",
       "        vertical-align: top;\n",
       "    }\n",
       "\n",
       "    .dataframe thead th {\n",
       "        text-align: right;\n",
       "    }\n",
       "</style>\n",
       "<table border=\"1\" class=\"dataframe\">\n",
       "  <thead>\n",
       "    <tr style=\"text-align: right;\">\n",
       "      <th>is_RA</th>\n",
       "      <th>0</th>\n",
       "      <th>1</th>\n",
       "    </tr>\n",
       "    <tr>\n",
       "      <th>sex</th>\n",
       "      <th></th>\n",
       "      <th></th>\n",
       "    </tr>\n",
       "  </thead>\n",
       "  <tbody>\n",
       "    <tr>\n",
       "      <th>1</th>\n",
       "      <td>168150</td>\n",
       "      <td>252</td>\n",
       "    </tr>\n",
       "    <tr>\n",
       "      <th>2</th>\n",
       "      <td>201496</td>\n",
       "      <td>724</td>\n",
       "    </tr>\n",
       "  </tbody>\n",
       "</table>\n",
       "</div>"
      ],
      "text/plain": [
       "is_RA       0    1\n",
       "sex               \n",
       "1      168150  252\n",
       "2      201496  724"
      ]
     },
     "execution_count": 17,
     "metadata": {},
     "output_type": "execute_result"
    }
   ],
   "source": [
    "ra_xtab"
   ]
  },
  {
   "cell_type": "code",
   "execution_count": 18,
   "metadata": {
    "scrolled": true
   },
   "outputs": [
    {
     "data": {
      "image/png": "[encoded data removed]",
      "text/plain": [
       "<Figure size 432x288 with 1 Axes>"
      ]
     },
     "metadata": {},
     "output_type": "display_data"
    },
    {
     "data": {
      "image/png": "[encoded data removed]",
      "text/plain": [
       "<Figure size 432x288 with 1 Axes>"
      ]
     },
     "metadata": {},
     "output_type": "display_data"
    }
   ],
   "source": [
    "fig, ax = plt.subplots()\n",
    "ax.pie(ra_xtab[0], labels=['Male', 'Female'], startangle=100, autopct='%1.1f%%')\n",
    "ax.set_title('No RA Detected')\n",
    "plt.savefig('No RA Detected.png')\n",
    "plt.show()\n",
    "\n",
    "fig, ax = plt.subplots()\n",
    "ax.pie(ra_xtab[1], labels=['Male', 'Female'], startangle=140, autopct='%1.1f%%')\n",
    "ax.set_title('Suffering From RA')\n",
    "plt.savefig('Suffering From RA.png')\n",
    "plt.show()"
   ]
  },
  {
   "cell_type": "code",
   "execution_count": null,
   "metadata": {},
   "outputs": [],
   "source": []
  },
  {
   "cell_type": "markdown",
   "metadata": {},
   "source": [
    "### Gender bias in other_RA"
   ]
  },
  {
   "cell_type": "code",
   "execution_count": 19,
   "metadata": {},
   "outputs": [
    {
     "name": "stdout",
     "output_type": "stream",
     "text": [
      "Odds ratio: 0.9517290883040325\n",
      "p-value:  1.0\n"
     ]
    }
   ],
   "source": [
    "other_ra_xtab = outpatient_new.groupby(['sex', 'is_other_RA'])['Uniq'].count().unstack()\n",
    "oddsratio, pvalue = stats.fisher_exact(other_ra_xtab)\n",
    "print('Odds ratio:', oddsratio)\n",
    "print('p-value: ', pvalue)"
   ]
  },
  {
   "cell_type": "code",
   "execution_count": 20,
   "metadata": {},
   "outputs": [
    {
     "data": {
      "text/html": [
       "<div>\n",
       "<style scoped>\n",
       "    .dataframe tbody tr th:only-of-type {\n",
       "        vertical-align: middle;\n",
       "    }\n",
       "\n",
       "    .dataframe tbody tr th {\n",
       "        vertical-align: top;\n",
       "    }\n",
       "\n",
       "    .dataframe thead th {\n",
       "        text-align: right;\n",
       "    }\n",
       "</style>\n",
       "<table border=\"1\" class=\"dataframe\">\n",
       "  <thead>\n",
       "    <tr style=\"text-align: right;\">\n",
       "      <th>is_other_RA</th>\n",
       "      <th>0</th>\n",
       "      <th>1</th>\n",
       "    </tr>\n",
       "    <tr>\n",
       "      <th>sex</th>\n",
       "      <th></th>\n",
       "      <th></th>\n",
       "    </tr>\n",
       "  </thead>\n",
       "  <tbody>\n",
       "    <tr>\n",
       "      <th>1</th>\n",
       "      <td>168388</td>\n",
       "      <td>14</td>\n",
       "    </tr>\n",
       "    <tr>\n",
       "      <th>2</th>\n",
       "      <td>202204</td>\n",
       "      <td>16</td>\n",
       "    </tr>\n",
       "  </tbody>\n",
       "</table>\n",
       "</div>"
      ],
      "text/plain": [
       "is_other_RA       0   1\n",
       "sex                    \n",
       "1            168388  14\n",
       "2            202204  16"
      ]
     },
     "execution_count": 20,
     "metadata": {},
     "output_type": "execute_result"
    }
   ],
   "source": [
    "other_ra_xtab"
   ]
  },
  {
   "cell_type": "code",
   "execution_count": 21,
   "metadata": {},
   "outputs": [
    {
     "data": {
      "image/png": "[encoded data removed]",
      "text/plain": [
       "<Figure size 432x288 with 1 Axes>"
      ]
     },
     "metadata": {},
     "output_type": "display_data"
    },
    {
     "data": {
      "image/png": "[encoded data removed]",
      "text/plain": [
       "<Figure size 432x288 with 1 Axes>"
      ]
     },
     "metadata": {},
     "output_type": "display_data"
    }
   ],
   "source": [
    "fig, ax = plt.subplots()\n",
    "ax.pie(other_ra_xtab[0], labels=['Male', 'Female'], startangle=100, autopct='%1.1f%%')\n",
    "ax.set_title('No RA Detected')\n",
    "plt.savefig('No other RA Detected.png')\n",
    "plt.show()\n",
    "\n",
    "fig, ax = plt.subplots()\n",
    "ax.pie(other_ra_xtab[1], labels=['Male', 'Female'], startangle=90, autopct='%1.1f%%')\n",
    "ax.set_title('Suffering From RA')\n",
    "plt.savefig('Suffering From other RA.png')\n",
    "plt.show()"
   ]
  },
  {
   "cell_type": "markdown",
   "metadata": {},
   "source": [
    "## Step 4: Calculate the inter-quartile range of the costs"
   ]
  },
  {
   "cell_type": "code",
   "execution_count": 22,
   "metadata": {},
   "outputs": [
    {
     "data": {
      "text/plain": [
       "count    370633.000000\n",
       "mean       3087.405855\n",
       "std        4915.324061\n",
       "min           0.000000\n",
       "25%         682.480000\n",
       "50%        1521.620000\n",
       "75%        3440.180000\n",
       "max      227311.780000\n",
       "Name: CHRGS, dtype: float64"
      ]
     },
     "execution_count": 22,
     "metadata": {},
     "output_type": "execute_result"
    }
   ],
   "source": [
    "outpatient.CHRGS.describe()"
   ]
  },
  {
   "cell_type": "code",
   "execution_count": 23,
   "metadata": {},
   "outputs": [
    {
     "data": {
      "text/plain": [
       "2757.7"
      ]
     },
     "execution_count": 23,
     "metadata": {},
     "output_type": "execute_result"
    }
   ],
   "source": [
    "stats.iqr(outpatient.CHRGS)"
   ]
  },
  {
   "cell_type": "markdown",
   "metadata": {},
   "source": [
    "## Step 5: Study of service utilization"
   ]
  },
  {
   "cell_type": "code",
   "execution_count": 24,
   "metadata": {},
   "outputs": [
    {
     "name": "stderr",
     "output_type": "stream",
     "text": [
      "C:\\Anaconda\\lib\\site-packages\\IPython\\core\\interactiveshell.py:3057: DtypeWarning: Columns (6,7,9) have mixed types. Specify dtype option on import or set low_memory=False.\n",
      "  interactivity=interactivity, compiler=compiler, result=result)\n"
     ]
    }
   ],
   "source": [
    "revcode = pd.read_csv('VTREVCODE16.TXT')"
   ]
  },
  {
   "cell_type": "code",
   "execution_count": 25,
   "metadata": {},
   "outputs": [],
   "source": [
    "revcode_ra = revcode.merge(ra_outpatient.drop_duplicates(subset='Uniq')['Uniq'])"
   ]
  },
  {
   "cell_type": "code",
   "execution_count": 26,
   "metadata": {},
   "outputs": [],
   "source": [
    "revcode_other_ra = revcode.merge(other_ra_outpatient.drop_duplicates(subset='Uniq')['Uniq'])"
   ]
  },
  {
   "cell_type": "code",
   "execution_count": 27,
   "metadata": {
    "scrolled": true
   },
   "outputs": [
    {
     "data": {
      "text/plain": [
       "REVCODE\n",
       "300    3219\n",
       "636    1218\n",
       "250    1161\n",
       "450    1055\n",
       "320     373\n",
       "259     286\n",
       "730     280\n",
       "270     234\n",
       "360     229\n",
       "370     219\n",
       "710     215\n",
       "260     199\n",
       "272     194\n",
       "762     163\n",
       "301     155\n",
       "420     153\n",
       "258     153\n",
       "310     139\n",
       "361     111\n",
       "637     105\n",
       "510      82\n",
       "351      78\n",
       "460      75\n",
       "761      74\n",
       "278      73\n",
       "352      70\n",
       "305      69\n",
       "350      62\n",
       "324      48\n",
       "490      41\n",
       "       ... \n",
       "307      10\n",
       "434       9\n",
       "610       8\n",
       "920       7\n",
       "255       6\n",
       "480       6\n",
       "612       6\n",
       "341       5\n",
       "390       5\n",
       "335       4\n",
       "311       4\n",
       "309       4\n",
       "481       4\n",
       "731       4\n",
       "444       3\n",
       "401       2\n",
       "292       2\n",
       "312       2\n",
       "391       2\n",
       "615       2\n",
       "623       2\n",
       "280       1\n",
       "279       1\n",
       "275       1\n",
       "359       1\n",
       "619       1\n",
       "681       1\n",
       "740       1\n",
       "790       1\n",
       "942       1\n",
       "Name: Uniq, Length: 81, dtype: int64"
      ]
     },
     "execution_count": 27,
     "metadata": {},
     "output_type": "execute_result"
    }
   ],
   "source": [
    "revcode_ra.groupby('REVCODE')['Uniq'].count().sort_values(ascending=False)\n",
    "# TOP 5 Services 300, 636, 250, 450, 320"
   ]
  },
  {
   "cell_type": "code",
   "execution_count": 28,
   "metadata": {
    "scrolled": true
   },
   "outputs": [
    {
     "data": {
      "text/plain": [
       "REVCODE\n",
       "300    53\n",
       "460    47\n",
       "510    18\n",
       "636    12\n",
       "259    10\n",
       "450    10\n",
       "250     7\n",
       "301     6\n",
       "730     5\n",
       "258     4\n",
       "420     4\n",
       "260     4\n",
       "270     4\n",
       "320     4\n",
       "710     3\n",
       "370     3\n",
       "360     3\n",
       "762     3\n",
       "255     2\n",
       "305     2\n",
       "352     2\n",
       "310     2\n",
       "324     2\n",
       "424     2\n",
       "430     2\n",
       "272     1\n",
       "351     1\n",
       "361     1\n",
       "483     1\n",
       "771     1\n",
       "Name: Uniq, dtype: int64"
      ]
     },
     "execution_count": 28,
     "metadata": {},
     "output_type": "execute_result"
    }
   ],
   "source": [
    "revcode_other_ra.groupby('REVCODE')['Uniq'].count().sort_values(ascending=False)\n",
    "# TOP 5 Services 300, 460, 510, 636, 259"
   ]
  },
  {
   "cell_type": "markdown",
   "metadata": {},
   "source": [
    "# Question 3"
   ]
  },
  {
   "cell_type": "markdown",
   "metadata": {},
   "source": [
    "## Data Preparation"
   ]
  },
  {
   "cell_type": "code",
   "execution_count": 29,
   "metadata": {},
   "outputs": [
    {
     "name": "stderr",
     "output_type": "stream",
     "text": [
      "C:\\Anaconda\\lib\\site-packages\\IPython\\core\\interactiveshell.py:3057: DtypeWarning: Columns (2,5,8,54,55,73,74,75,76,78) have mixed types. Specify dtype option on import or set low_memory=False.\n",
      "  interactivity=interactivity, compiler=compiler, result=result)\n"
     ]
    }
   ],
   "source": [
    "inpatient = pd.read_csv('VTINP16_upd.csv')\n",
    "revcode = pd.read_csv('VTREVCODE16.TXT')"
   ]
  },
  {
   "cell_type": "code",
   "execution_count": 30,
   "metadata": {},
   "outputs": [],
   "source": [
    "drg_code = pd.read_csv('DRG_CODE.csv')\n",
    "pccr_code = pd.read_csv('PCCR_CODE.csv')"
   ]
  },
  {
   "cell_type": "code",
   "execution_count": 31,
   "metadata": {
    "scrolled": true
   },
   "outputs": [],
   "source": [
    "inpatient.DRG = inpatient.DRG.replace(' ', np.nan)\n",
    "inpatient.dropna(subset=['DRG'], inplace=True)\n",
    "inpatient.DRG = inpatient.DRG.astype(int)"
   ]
  },
  {
   "cell_type": "code",
   "execution_count": 32,
   "metadata": {
    "scrolled": true
   },
   "outputs": [],
   "source": [
    "# Filter only important DRGs \n",
    "inpatient = inpatient[(inpatient.DRG<=977)&(inpatient.DRG>=20)&(inpatient.DRG.isin(drg_code.MSDRG))]"
   ]
  },
  {
   "cell_type": "code",
   "execution_count": 33,
   "metadata": {},
   "outputs": [],
   "source": [
    "revcode.PCCR = revcode.PCCR.replace(' ', np.nan)\n",
    "revcode.dropna(subset=['PCCR'], inplace=True)\n",
    "revcode.PCCR = revcode.PCCR.astype(int)"
   ]
  },
  {
   "cell_type": "code",
   "execution_count": 34,
   "metadata": {
    "scrolled": true
   },
   "outputs": [],
   "source": [
    "# Exclude the low dollar value services\n",
    "revcode.REVCHRGS = revcode.REVCHRGS.replace(' ', np.nan).astype(float)\n",
    "revcode_big = revcode[(revcode.REVCHRGS>=100)&(revcode.PCCR.isin(pccr_code.PCCR))]"
   ]
  },
  {
   "cell_type": "code",
   "execution_count": 35,
   "metadata": {
    "scrolled": true
   },
   "outputs": [],
   "source": [
    "# Merge revcode and inpatient data\n",
    "re_inpatient = inpatient.merge(revcode_big, how='inner', left_on='UNIQ', right_on='Uniq')"
   ]
  },
  {
   "cell_type": "code",
   "execution_count": 36,
   "metadata": {},
   "outputs": [],
   "source": [
    "# Generate the cross tabulated file\n",
    "re_inpatient.REVCHRGS = re_inpatient.REVCHRGS.astype(float)\n",
    "charge_pccr = re_inpatient.groupby(['UNIQ', 'DRG', 'PCCR'])['REVCHRGS'].sum()\n",
    "charge_temp = charge_pccr.unstack()\n",
    "charge_temp = charge_temp.reset_index()\n",
    "cross_table = charge_temp.groupby('DRG').mean().drop('UNIQ', axis=1)"
   ]
  },
  {
   "cell_type": "code",
   "execution_count": 37,
   "metadata": {
    "scrolled": true
   },
   "outputs": [],
   "source": [
    "# Combine PCCR 3700 & 4000\n",
    "cross_table['PCCR_OR_and_Anesth_Costs'] = cross_table.loc[:, 3700].fillna(0) + cross_table.loc[:, 4000].fillna(0)"
   ]
  },
  {
   "cell_type": "code",
   "execution_count": 38,
   "metadata": {},
   "outputs": [],
   "source": [
    "# Reset index and columns names\n",
    "pccr_code_name = pccr_code.iloc[:, :2].set_index('PCCR').to_dict()\n",
    "drg_code_name = drg_code.iloc[:, [0,2]].set_index('MSDRG').to_dict()\n",
    "cross_table_new = cross_table.rename(columns=pccr_code_name['PCCR_NAME'], index=drg_code_name['MSDRG_DESC'])"
   ]
  },
  {
   "cell_type": "code",
   "execution_count": 39,
   "metadata": {
    "scrolled": true
   },
   "outputs": [],
   "source": [
    "# Turn N/A value to 0 \n",
    "cross_table_new.fillna(0, inplace=True)"
   ]
  },
  {
   "cell_type": "markdown",
   "metadata": {},
   "source": [
    "## K-clustering"
   ]
  },
  {
   "cell_type": "code",
   "execution_count": 40,
   "metadata": {},
   "outputs": [],
   "source": [
    "data_train = cross_table_new['PCCR_OR_and_Anesth_Costs'].to_numpy().reshape(-1, 1)"
   ]
  },
  {
   "cell_type": "code",
   "execution_count": 41,
   "metadata": {},
   "outputs": [],
   "source": [
    "from sklearn.cluster import KMeans\n",
    "from sklearn.metrics import calinski_harabasz_score"
   ]
  },
  {
   "cell_type": "code",
   "execution_count": 42,
   "metadata": {},
   "outputs": [
    {
     "data": {
      "text/plain": [
       "1429.752223359702"
      ]
     },
     "execution_count": 42,
     "metadata": {},
     "output_type": "execute_result"
    }
   ],
   "source": [
    "# k=2\n",
    "model = KMeans(n_clusters=2, random_state=0).fit(data_train)\n",
    "clusters = model.predict(data_train)\n",
    "calinski_harabasz_score(data_train, clusters)"
   ]
  },
  {
   "cell_type": "code",
   "execution_count": 43,
   "metadata": {},
   "outputs": [
    {
     "data": {
      "text/plain": [
       "1725.8096202802003"
      ]
     },
     "execution_count": 43,
     "metadata": {},
     "output_type": "execute_result"
    }
   ],
   "source": [
    "# k=3\n",
    "model = KMeans(n_clusters=3, random_state=0).fit(data_train)\n",
    "clusters_3 = model.predict(data_train)\n",
    "calinski_harabasz_score(data_train, clusters_3)"
   ]
  },
  {
   "cell_type": "code",
   "execution_count": 44,
   "metadata": {},
   "outputs": [
    {
     "data": {
      "text/plain": [
       "1978.0241807560121"
      ]
     },
     "execution_count": 44,
     "metadata": {},
     "output_type": "execute_result"
    }
   ],
   "source": [
    "# k=4\n",
    "model = KMeans(n_clusters=4, random_state=0).fit(data_train)\n",
    "clusters = model.predict(data_train)\n",
    "calinski_harabasz_score(data_train, clusters)"
   ]
  },
  {
   "cell_type": "code",
   "execution_count": 45,
   "metadata": {},
   "outputs": [
    {
     "data": {
      "text/plain": [
       "2191.6102198382987"
      ]
     },
     "execution_count": 45,
     "metadata": {},
     "output_type": "execute_result"
    }
   ],
   "source": [
    "# k=5\n",
    "model = KMeans(n_clusters=5, random_state=0).fit(data_train)\n",
    "clusters = model.predict(data_train)\n",
    "calinski_harabasz_score(data_train, clusters)"
   ]
  },
  {
   "cell_type": "code",
   "execution_count": 46,
   "metadata": {},
   "outputs": [
    {
     "data": {
      "image/png": "[encoded data removed]",
      "text/plain": [
       "<Figure size 432x288 with 1 Axes>"
      ]
     },
     "metadata": {
      "needs_background": "light"
     },
     "output_type": "display_data"
    }
   ],
   "source": [
    "fig, ax = plt.subplots()\n",
    "ax.scatter(cross_table.index, cross_table_new['PCCR_OR_and_Anesth_Costs'], c=clusters_3)\n",
    "plt.show()"
   ]
  },
  {
   "cell_type": "markdown",
   "metadata": {},
   "source": [
    "## Interpretion"
   ]
  },
  {
   "cell_type": "code",
   "execution_count": 47,
   "metadata": {},
   "outputs": [],
   "source": [
    "cluster_result = pd.DataFrame()\n",
    "cluster_result['PCCR_OR_and_Anesth_Costs'] = cross_table['PCCR_OR_and_Anesth_Costs']\n",
    "cluster_result['cluster'] = clusters_3\n",
    "cluster_result['DRG_name'] = cross_table_new.index"
   ]
  },
  {
   "cell_type": "code",
   "execution_count": 48,
   "metadata": {},
   "outputs": [
    {
     "data": {
      "image/png": "[encoded data removed]",
      "text/plain": [
       "<Figure size 432x288 with 1 Axes>"
      ]
     },
     "metadata": {
      "needs_background": "light"
     },
     "output_type": "display_data"
    }
   ],
   "source": [
    "fig, ax = plt.subplots()\n",
    "colors = ['steelblue', '#9999ff', '#ff9999']\n",
    "for i in range(3):\n",
    "    temp = cluster_result[cluster_result['cluster']==i]\n",
    "    ax.scatter(temp.index, temp['PCCR_OR_and_Anesth_Costs'], c=colors[i], label=i)\n",
    "ax.legend()\n",
    "plt.show()"
   ]
  },
  {
   "cell_type": "code",
   "execution_count": 49,
   "metadata": {
    "scrolled": true
   },
   "outputs": [],
   "source": [
    "re_inpatient_cluster = re_inpatient[(re_inpatient.PCCR==3700)|(re_inpatient.PCCR==4000)]"
   ]
  },
  {
   "cell_type": "code",
   "execution_count": 68,
   "metadata": {},
   "outputs": [],
   "source": [
    "cluster_result.to_csv('cluster_results_Henry.csv', index=None)"
   ]
  },
  {
   "cell_type": "markdown",
   "metadata": {},
   "source": [
    "### REVCODE Difference"
   ]
  },
  {
   "cell_type": "code",
   "execution_count": 72,
   "metadata": {
    "scrolled": true
   },
   "outputs": [],
   "source": [
    "cluster_result = cluster_result.reset_index()\n",
    "re_inpatient_cluster = re_inpatient_cluster.merge(cluster_result,how='inner')\n",
    "re_inpatient_cluster.loc[re_inpatient_cluster.cluster==0, 'cluster_name'] = 'Rare'\n",
    "re_inpatient_cluster.loc[re_inpatient_cluster.cluster==1, 'cluster_name'] = 'Extreme'\n",
    "re_inpatient_cluster.loc[re_inpatient_cluster.cluster==2, 'cluster_name'] = 'Common'\n",
    "cluster_service = re_inpatient_cluster.groupby(['cluster', 'cluster_name', 'REVCODE'])['Uniq'].count()\n",
    "cluster_service = cluster_service.reset_index()"
   ]
  },
  {
   "cell_type": "code",
   "execution_count": 73,
   "metadata": {},
   "outputs": [
    {
     "data": {
      "text/html": [
       "<div>\n",
       "<style scoped>\n",
       "    .dataframe tbody tr th:only-of-type {\n",
       "        vertical-align: middle;\n",
       "    }\n",
       "\n",
       "    .dataframe tbody tr th {\n",
       "        vertical-align: top;\n",
       "    }\n",
       "\n",
       "    .dataframe thead th {\n",
       "        text-align: right;\n",
       "    }\n",
       "</style>\n",
       "<table border=\"1\" class=\"dataframe\">\n",
       "  <thead>\n",
       "    <tr style=\"text-align: right;\">\n",
       "      <th></th>\n",
       "      <th>cluster</th>\n",
       "      <th>cluster_name</th>\n",
       "      <th>REVCODE</th>\n",
       "      <th>Uniq</th>\n",
       "    </tr>\n",
       "  </thead>\n",
       "  <tbody>\n",
       "    <tr>\n",
       "      <th>0</th>\n",
       "      <td>0</td>\n",
       "      <td>Rare</td>\n",
       "      <td>360</td>\n",
       "      <td>8048</td>\n",
       "    </tr>\n",
       "    <tr>\n",
       "      <th>1</th>\n",
       "      <td>0</td>\n",
       "      <td>Rare</td>\n",
       "      <td>361</td>\n",
       "      <td>1108</td>\n",
       "    </tr>\n",
       "    <tr>\n",
       "      <th>2</th>\n",
       "      <td>0</td>\n",
       "      <td>Rare</td>\n",
       "      <td>369</td>\n",
       "      <td>21</td>\n",
       "    </tr>\n",
       "    <tr>\n",
       "      <th>3</th>\n",
       "      <td>0</td>\n",
       "      <td>Rare</td>\n",
       "      <td>370</td>\n",
       "      <td>7739</td>\n",
       "    </tr>\n",
       "    <tr>\n",
       "      <th>4</th>\n",
       "      <td>0</td>\n",
       "      <td>Rare</td>\n",
       "      <td>379</td>\n",
       "      <td>3</td>\n",
       "    </tr>\n",
       "    <tr>\n",
       "      <th>5</th>\n",
       "      <td>1</td>\n",
       "      <td>Extreme</td>\n",
       "      <td>360</td>\n",
       "      <td>1111</td>\n",
       "    </tr>\n",
       "    <tr>\n",
       "      <th>6</th>\n",
       "      <td>1</td>\n",
       "      <td>Extreme</td>\n",
       "      <td>361</td>\n",
       "      <td>251</td>\n",
       "    </tr>\n",
       "    <tr>\n",
       "      <th>7</th>\n",
       "      <td>1</td>\n",
       "      <td>Extreme</td>\n",
       "      <td>370</td>\n",
       "      <td>1115</td>\n",
       "    </tr>\n",
       "    <tr>\n",
       "      <th>8</th>\n",
       "      <td>2</td>\n",
       "      <td>Common</td>\n",
       "      <td>360</td>\n",
       "      <td>2397</td>\n",
       "    </tr>\n",
       "    <tr>\n",
       "      <th>9</th>\n",
       "      <td>2</td>\n",
       "      <td>Common</td>\n",
       "      <td>361</td>\n",
       "      <td>2546</td>\n",
       "    </tr>\n",
       "    <tr>\n",
       "      <th>10</th>\n",
       "      <td>2</td>\n",
       "      <td>Common</td>\n",
       "      <td>369</td>\n",
       "      <td>1</td>\n",
       "    </tr>\n",
       "    <tr>\n",
       "      <th>11</th>\n",
       "      <td>2</td>\n",
       "      <td>Common</td>\n",
       "      <td>370</td>\n",
       "      <td>3893</td>\n",
       "    </tr>\n",
       "    <tr>\n",
       "      <th>12</th>\n",
       "      <td>2</td>\n",
       "      <td>Common</td>\n",
       "      <td>379</td>\n",
       "      <td>1</td>\n",
       "    </tr>\n",
       "  </tbody>\n",
       "</table>\n",
       "</div>"
      ],
      "text/plain": [
       "    cluster cluster_name  REVCODE  Uniq\n",
       "0         0         Rare      360  8048\n",
       "1         0         Rare      361  1108\n",
       "2         0         Rare      369    21\n",
       "3         0         Rare      370  7739\n",
       "4         0         Rare      379     3\n",
       "5         1      Extreme      360  1111\n",
       "6         1      Extreme      361   251\n",
       "7         1      Extreme      370  1115\n",
       "8         2       Common      360  2397\n",
       "9         2       Common      361  2546\n",
       "10        2       Common      369     1\n",
       "11        2       Common      370  3893\n",
       "12        2       Common      379     1"
      ]
     },
     "execution_count": 73,
     "metadata": {},
     "output_type": "execute_result"
    }
   ],
   "source": [
    "cluster_service"
   ]
  },
  {
   "cell_type": "code",
   "execution_count": 74,
   "metadata": {
    "scrolled": true
   },
   "outputs": [
    {
     "data": {
      "image/png": "[encoded data removed]",
      "text/plain": [
       "<Figure size 432x288 with 1 Axes>"
      ]
     },
     "metadata": {},
     "output_type": "display_data"
    },
    {
     "data": {
      "image/png": "[encoded data removed]",
      "text/plain": [
       "<Figure size 432x288 with 1 Axes>"
      ]
     },
     "metadata": {},
     "output_type": "display_data"
    },
    {
     "data": {
      "image/png": "[encoded data removed]",
      "text/plain": [
       "<Figure size 432x288 with 1 Axes>"
      ]
     },
     "metadata": {},
     "output_type": "display_data"
    }
   ],
   "source": [
    "for i in [1, 0 ,2]:\n",
    "    temp = cluster_service[(cluster_service.cluster==i)&(cluster_service.REVCODE.isin([360, 361, 370]))]\n",
    "    temp = temp.sort_values('REVCODE')\n",
    "    plt.style.use('ggplot')\n",
    "    fig, ax = plt.subplots()\n",
    "    ax.pie(temp['Uniq'], labels=temp['REVCODE'], explode=[0, 0.1, 0], startangle=90, autopct='%1.1f%%', colors=['steelblue', '#9999ff', '#ff9999'])\n",
    "    ax.set_title(f'Cluster {temp.loc[:, \"cluster_name\"].unique()[0]}')\n",
    "    plt.savefig(f'Cluster {temp.loc[:, \"cluster_name\"].unique()[0]}.png')\n",
    "    plt.show()\n",
    "# 360: Operating Room Services\n",
    "# 361: Operating Room Services: Minor surgery\n",
    "# 370: Anesthesia"
   ]
  },
  {
   "cell_type": "markdown",
   "metadata": {},
   "source": [
    "### Secure days and Pdays"
   ]
  },
  {
   "cell_type": "code",
   "execution_count": 101,
   "metadata": {},
   "outputs": [],
   "source": [
    "import scipy.stats as stats"
   ]
  },
  {
   "cell_type": "code",
   "execution_count": 86,
   "metadata": {},
   "outputs": [],
   "source": [
    "re_inpatient_cluster.SCUD = re_inpatient_cluster.SCUD.replace(' ', np.nan).astype(float).fillna(0)"
   ]
  },
  {
   "cell_type": "code",
   "execution_count": 103,
   "metadata": {},
   "outputs": [
    {
     "data": {
      "text/plain": [
       "Ttest_indResult(statistic=2.855652644166643, pvalue=0.004299406509624691)"
      ]
     },
     "execution_count": 103,
     "metadata": {},
     "output_type": "execute_result"
    }
   ],
   "source": [
    "stats.ttest_ind(re_inpatient_cluster.loc[re_inpatient_cluster.cluster_name=='Extreme', 'SCUD'], \n",
    "                re_inpatient_cluster.loc[re_inpatient_cluster.cluster_name=='Rare', 'SCUD'])\n",
    "# difference between 'Extreme' and 'Rare' is significant"
   ]
  },
  {
   "cell_type": "code",
   "execution_count": 106,
   "metadata": {},
   "outputs": [
    {
     "data": {
      "text/plain": [
       "Ttest_indResult(statistic=1.140789692584026, pvalue=0.2539680585502103)"
      ]
     },
     "execution_count": 106,
     "metadata": {},
     "output_type": "execute_result"
    }
   ],
   "source": [
    "stats.ttest_ind(re_inpatient_cluster.loc[re_inpatient_cluster.cluster_name=='Common', 'SCUD'], \n",
    "                re_inpatient_cluster.loc[re_inpatient_cluster.cluster_name=='Rare', 'SCUD'])"
   ]
  },
  {
   "cell_type": "code",
   "execution_count": 87,
   "metadata": {},
   "outputs": [],
   "source": [
    "scu_cluster = re_inpatient_cluster.groupby(['cluster_name'])['SCUD'].mean()[['Extreme', 'Rare', 'Common']]"
   ]
  },
  {
   "cell_type": "code",
   "execution_count": 98,
   "metadata": {},
   "outputs": [
    {
     "data": {
      "image/png": "[encoded data removed]",
      "text/plain": [
       "<Figure size 300x500 with 1 Axes>"
      ]
     },
     "metadata": {},
     "output_type": "display_data"
    }
   ],
   "source": [
    "plt.style.use('default')\n",
    "fig, ax = plt.subplots()\n",
    "ax.bar(scu_cluster.index, scu_cluster, color='steelblue', width=0.6)\n",
    "plt.grid(False)\n",
    "ax.set_title('Average Secure days VS cluster')\n",
    "fig.set_size_inches([3,5])\n",
    "plt.savefig('scu_day.png')\n",
    "plt.show()"
   ]
  },
  {
   "cell_type": "code",
   "execution_count": 93,
   "metadata": {},
   "outputs": [],
   "source": [
    "re_inpatient_cluster.pdays = re_inpatient_cluster.pdays.replace(' ', np.nan).astype(float).fillna(0)"
   ]
  },
  {
   "cell_type": "code",
   "execution_count": 104,
   "metadata": {},
   "outputs": [
    {
     "data": {
      "text/plain": [
       "Ttest_indResult(statistic=30.652038255301413, pvalue=1.5596623370145302e-201)"
      ]
     },
     "execution_count": 104,
     "metadata": {},
     "output_type": "execute_result"
    }
   ],
   "source": [
    "stats.ttest_ind(re_inpatient_cluster.loc[re_inpatient_cluster.cluster_name=='Extreme', 'pdays'], \n",
    "                re_inpatient_cluster.loc[re_inpatient_cluster.cluster_name=='Rare', 'pdays'])\n",
    "# difference between 'Extreme' and 'Rare' is significant"
   ]
  },
  {
   "cell_type": "code",
   "execution_count": 107,
   "metadata": {},
   "outputs": [
    {
     "data": {
      "text/plain": [
       "Ttest_indResult(statistic=7.987174744425065, pvalue=1.4379696053460577e-15)"
      ]
     },
     "execution_count": 107,
     "metadata": {},
     "output_type": "execute_result"
    }
   ],
   "source": [
    "stats.ttest_ind(re_inpatient_cluster.loc[re_inpatient_cluster.cluster_name=='Common', 'pdays'], \n",
    "                re_inpatient_cluster.loc[re_inpatient_cluster.cluster_name=='Rare', 'pdays'])"
   ]
  },
  {
   "cell_type": "code",
   "execution_count": 94,
   "metadata": {},
   "outputs": [],
   "source": [
    "pday_cluster = re_inpatient_cluster.groupby(['cluster_name'])['pdays'].mean()[['Extreme', 'Rare', 'Common']]"
   ]
  },
  {
   "cell_type": "code",
   "execution_count": 100,
   "metadata": {},
   "outputs": [
    {
     "data": {
      "image/png": "[encoded data removed]",
      "text/plain": [
       "<Figure size 300x500 with 1 Axes>"
      ]
     },
     "metadata": {},
     "output_type": "display_data"
    }
   ],
   "source": [
    "fig, ax = plt.subplots()\n",
    "ax.bar(pday_cluster.index, pday_cluster, color='steelblue', width=0.6)\n",
    "ax.set_title('Average patient days VS cluster')\n",
    "fig.set_size_inches([3,5])\n",
    "plt.savefig('pday.png')\n",
    "plt.show()"
   ]
  }
 ],
 "metadata": {
  "kernelspec": {
   "display_name": "Python 3",
   "language": "python",
   "name": "python3"
  },
  "language_info": {
   "codemirror_mode": {
    "name": "ipython",
    "version": 3
   },
   "file_extension": ".py",
   "mimetype": "text/x-python",
   "name": "python",
   "nbconvert_exporter": "python",
   "pygments_lexer": "ipython3",
   "version": "3.7.3"
  }
 },
 "nbformat": 4,
 "nbformat_minor": 2
}
