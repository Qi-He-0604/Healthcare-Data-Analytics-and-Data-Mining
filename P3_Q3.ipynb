{
 "cells": [
  {
   "cell_type": "code",
   "execution_count": 48,
   "metadata": {},
   "outputs": [],
   "source": [
    "import pandas as pd\n",
    "import numpy as np\n",
    "import re\n",
    "import matplotlib.pyplot as plt"
   ]
  },
  {
   "cell_type": "code",
   "execution_count": 9,
   "metadata": {},
   "outputs": [],
   "source": [
    "# load data\n",
    "inp = pd.read_csv(\"VTINP16_upd.TXT\")\n",
    "outp = pd.read_csv(\"VTOUTP16.TXT\")\n",
    "ed = pd.read_csv(\"VTED16.TXT\")\n",
    "rev = pd.read_csv(\"VTREVCODE16.TXT\")"
   ]
  },
  {
   "cell_type": "code",
   "execution_count": 10,
   "metadata": {},
   "outputs": [
    {
     "data": {
      "text/html": [
       "<div>\n",
       "<style scoped>\n",
       "    .dataframe tbody tr th:only-of-type {\n",
       "        vertical-align: middle;\n",
       "    }\n",
       "\n",
       "    .dataframe tbody tr th {\n",
       "        vertical-align: top;\n",
       "    }\n",
       "\n",
       "    .dataframe thead th {\n",
       "        text-align: right;\n",
       "    }\n",
       "</style>\n",
       "<table border=\"1\" class=\"dataframe\">\n",
       "  <thead>\n",
       "    <tr style=\"text-align: right;\">\n",
       "      <th></th>\n",
       "      <th>hnum2</th>\n",
       "      <th>ATYPE</th>\n",
       "      <th>asour</th>\n",
       "      <th>intage</th>\n",
       "      <th>TXTZIP</th>\n",
       "      <th>sex</th>\n",
       "      <th>dstat</th>\n",
       "      <th>PPAY</th>\n",
       "      <th>CHRGS</th>\n",
       "      <th>DX1</th>\n",
       "      <th>...</th>\n",
       "      <th>BTYPE</th>\n",
       "      <th>ERFLAG</th>\n",
       "      <th>cah</th>\n",
       "      <th>vtres</th>\n",
       "      <th>OBSFLAG</th>\n",
       "      <th>AFLAG</th>\n",
       "      <th>UNIQ</th>\n",
       "      <th>ADMID_QTR</th>\n",
       "      <th>DISCD_QTR</th>\n",
       "      <th>CHRGS_HCIA</th>\n",
       "    </tr>\n",
       "  </thead>\n",
       "  <tbody>\n",
       "    <tr>\n",
       "      <td>0</td>\n",
       "      <td>11</td>\n",
       "      <td>1</td>\n",
       "      <td>3</td>\n",
       "      <td>14</td>\n",
       "      <td>OTH-NH</td>\n",
       "      <td>2</td>\n",
       "      <td>1</td>\n",
       "      <td>1</td>\n",
       "      <td>14417.6</td>\n",
       "      <td>I130</td>\n",
       "      <td>...</td>\n",
       "      <td>117</td>\n",
       "      <td>1</td>\n",
       "      <td>1</td>\n",
       "      <td>3</td>\n",
       "      <td>0</td>\n",
       "      <td>0</td>\n",
       "      <td>443</td>\n",
       "      <td>1</td>\n",
       "      <td>1</td>\n",
       "      <td>14417.6</td>\n",
       "    </tr>\n",
       "    <tr>\n",
       "      <td>1</td>\n",
       "      <td>11</td>\n",
       "      <td>1</td>\n",
       "      <td>3</td>\n",
       "      <td>14</td>\n",
       "      <td>050</td>\n",
       "      <td>1</td>\n",
       "      <td>1</td>\n",
       "      <td>1</td>\n",
       "      <td>13557.5</td>\n",
       "      <td>I5033</td>\n",
       "      <td>...</td>\n",
       "      <td>111</td>\n",
       "      <td>1</td>\n",
       "      <td>1</td>\n",
       "      <td>1</td>\n",
       "      <td>0</td>\n",
       "      <td>0</td>\n",
       "      <td>447</td>\n",
       "      <td>1</td>\n",
       "      <td>1</td>\n",
       "      <td>13557.5</td>\n",
       "    </tr>\n",
       "    <tr>\n",
       "      <td>2</td>\n",
       "      <td>11</td>\n",
       "      <td>1</td>\n",
       "      <td>3</td>\n",
       "      <td>14</td>\n",
       "      <td>050</td>\n",
       "      <td>2</td>\n",
       "      <td>1</td>\n",
       "      <td>1</td>\n",
       "      <td>12657.3</td>\n",
       "      <td>K922</td>\n",
       "      <td>...</td>\n",
       "      <td>111</td>\n",
       "      <td>1</td>\n",
       "      <td>1</td>\n",
       "      <td>1</td>\n",
       "      <td>0</td>\n",
       "      <td>0</td>\n",
       "      <td>454</td>\n",
       "      <td>1</td>\n",
       "      <td>1</td>\n",
       "      <td>12657.3</td>\n",
       "    </tr>\n",
       "    <tr>\n",
       "      <td>3</td>\n",
       "      <td>11</td>\n",
       "      <td>1</td>\n",
       "      <td>3</td>\n",
       "      <td>12</td>\n",
       "      <td>050</td>\n",
       "      <td>1</td>\n",
       "      <td>8</td>\n",
       "      <td>1</td>\n",
       "      <td>11886.8</td>\n",
       "      <td>C3490</td>\n",
       "      <td>...</td>\n",
       "      <td>111</td>\n",
       "      <td>1</td>\n",
       "      <td>1</td>\n",
       "      <td>1</td>\n",
       "      <td>0</td>\n",
       "      <td>0</td>\n",
       "      <td>568</td>\n",
       "      <td>1</td>\n",
       "      <td>1</td>\n",
       "      <td>11886.8</td>\n",
       "    </tr>\n",
       "    <tr>\n",
       "      <td>4</td>\n",
       "      <td>11</td>\n",
       "      <td>1</td>\n",
       "      <td>3</td>\n",
       "      <td>10</td>\n",
       "      <td>050</td>\n",
       "      <td>1</td>\n",
       "      <td>5</td>\n",
       "      <td>1</td>\n",
       "      <td>14101.5</td>\n",
       "      <td>K852</td>\n",
       "      <td>...</td>\n",
       "      <td>111</td>\n",
       "      <td>1</td>\n",
       "      <td>1</td>\n",
       "      <td>1</td>\n",
       "      <td>0</td>\n",
       "      <td>0</td>\n",
       "      <td>777</td>\n",
       "      <td>1</td>\n",
       "      <td>1</td>\n",
       "      <td>14101.5</td>\n",
       "    </tr>\n",
       "  </tbody>\n",
       "</table>\n",
       "<p>5 rows × 70 columns</p>\n",
       "</div>"
      ],
      "text/plain": [
       "   hnum2  ATYPE asour  intage  TXTZIP sex  dstat  PPAY    CHRGS    DX1  ...  \\\n",
       "0     11      1     3      14  OTH-NH   2      1     1  14417.6   I130  ...   \n",
       "1     11      1     3      14     050   1      1     1  13557.5  I5033  ...   \n",
       "2     11      1     3      14     050   2      1     1  12657.3   K922  ...   \n",
       "3     11      1     3      12     050   1      8     1  11886.8  C3490  ...   \n",
       "4     11      1     3      10     050   1      5     1  14101.5   K852  ...   \n",
       "\n",
       "  BTYPE ERFLAG cah vtres OBSFLAG AFLAG UNIQ ADMID_QTR DISCD_QTR CHRGS_HCIA  \n",
       "0   117      1   1     3       0     0  443         1         1    14417.6  \n",
       "1   111      1   1     1       0     0  447         1         1    13557.5  \n",
       "2   111      1   1     1       0     0  454         1         1    12657.3  \n",
       "3   111      1   1     1       0     0  568         1         1    11886.8  \n",
       "4   111      1   1     1       0     0  777         1         1    14101.5  \n",
       "\n",
       "[5 rows x 70 columns]"
      ]
     },
     "execution_count": 10,
     "metadata": {},
     "output_type": "execute_result"
    }
   ],
   "source": [
    "# question 3\n",
    "ed.head()"
   ]
  },
  {
   "cell_type": "code",
   "execution_count": 15,
   "metadata": {},
   "outputs": [],
   "source": [
    "# find overdose\n",
    "def find_overdose(x):\n",
    "    for index in x.index:\n",
    "        if re.search('T4[0-3]+.+', x[index]):\n",
    "            return True\n",
    "        else:\n",
    "            continue\n",
    "    return False  \n",
    "\n",
    "def find_narcotics(x):\n",
    "    for index in x.index:\n",
    "        if re.search('(T404.+)|(T4362.+)', x[index]):\n",
    "            return True\n",
    "        else:\n",
    "            continue\n",
    "    return False  "
   ]
  },
  {
   "cell_type": "code",
   "execution_count": 16,
   "metadata": {},
   "outputs": [],
   "source": [
    "overdose = ed.loc[:, [f'DX{i+1}' for i in range(20)]].apply(lambda x: find_overdose(x), axis=1)\n",
    "narcotics = ed.loc[:, [f'DX{i+1}' for i in range(20)]].apply(lambda x: find_narcotics(x), axis=1)"
   ]
  },
  {
   "cell_type": "code",
   "execution_count": 17,
   "metadata": {},
   "outputs": [],
   "source": [
    "ed['overdose'] = overdue.astype(int)\n",
    "ed['narcotics'] = narcotics.astype(int)"
   ]
  },
  {
   "cell_type": "code",
   "execution_count": 18,
   "metadata": {},
   "outputs": [],
   "source": [
    "ed.to_csv('ed_withbool.csv', index=False)"
   ]
  },
  {
   "cell_type": "code",
   "execution_count": 20,
   "metadata": {},
   "outputs": [],
   "source": [
    "# Tens of millions of dollars reportedly were spent on drug use related cases that year alone. \n",
    "# Can you find the exact dollar amount for your identified patients in this question? \n",
    "# Of the three insurances in Question 2, what was share of each of the total payments? "
   ]
  },
  {
   "cell_type": "code",
   "execution_count": 29,
   "metadata": {},
   "outputs": [
    {
     "data": {
      "text/plain": [
       "30741219.53"
      ]
     },
     "execution_count": 29,
     "metadata": {},
     "output_type": "execute_result"
    }
   ],
   "source": [
    "# money spent on drug use related cases\n",
    "round(sum(ed[ed['overdose'] == 1]['CHRGS'].astype(float)),2)"
   ]
  },
  {
   "cell_type": "code",
   "execution_count": 44,
   "metadata": {},
   "outputs": [],
   "source": [
    "# share of each insurance of the total payments\n",
    "identified = ed[ed['overdose'] == 1]\n",
    "medicare = identified[identified['PPAY'] == 1]\n",
    "medicaid = identified[identified['PPAY'] == 2]\n",
    "commercial = identified[(identified['PPAY'] == 6) | (identified['PPAY'] == 7)]"
   ]
  },
  {
   "cell_type": "code",
   "execution_count": 45,
   "metadata": {},
   "outputs": [
    {
     "data": {
      "text/plain": [
       "17237917.63"
      ]
     },
     "execution_count": 45,
     "metadata": {},
     "output_type": "execute_result"
    }
   ],
   "source": [
    "round(sum(medicare['CHRGS'].astype(float)),2)"
   ]
  },
  {
   "cell_type": "code",
   "execution_count": 46,
   "metadata": {},
   "outputs": [
    {
     "data": {
      "text/plain": [
       "6713846.42"
      ]
     },
     "execution_count": 46,
     "metadata": {},
     "output_type": "execute_result"
    }
   ],
   "source": [
    "round(sum(medicaid['CHRGS'].astype(float)),2)"
   ]
  },
  {
   "cell_type": "code",
   "execution_count": 47,
   "metadata": {},
   "outputs": [
    {
     "data": {
      "text/plain": [
       "5777497.88"
      ]
     },
     "execution_count": 47,
     "metadata": {},
     "output_type": "execute_result"
    }
   ],
   "source": [
    "round(sum(commercial['CHRGS'].astype(float)),2)"
   ]
  },
  {
   "cell_type": "code",
   "execution_count": 50,
   "metadata": {},
   "outputs": [
    {
     "data": {
      "image/png": "[encoded data removed]",
      "text/plain": [
       "<Figure size 432x288 with 1 Axes>"
      ]
     },
     "metadata": {},
     "output_type": "display_data"
    }
   ],
   "source": [
    "fig = plt.figure()\n",
    "ax = fig.add_axes([0,0,1,1])\n",
    "ax.axis('equal')\n",
    "payers = ['Medicare', 'Medicaid', 'Commercial Payer']\n",
    "shares = [round(sum(medicare['CHRGS'].astype(float)),2),\n",
    "            round(sum(medicaid['CHRGS'].astype(float)),2),\n",
    "            round(sum(commercial['CHRGS'].astype(float)),2)]\n",
    "ax.pie(shares, labels = payers, autopct='%1.1f%%', textprops={'fontsize': 14})\n",
    "plt.show()"
   ]
  },
  {
   "cell_type": "code",
   "execution_count": 43,
   "metadata": {},
   "outputs": [],
   "source": [
    "# Use the ICD-10 codes of T404xxx and T4362xx to identify only a small sample of such patients. \n",
    "# How many of patients have been brought to ED for diagnosis related to synthetic narcotics or amphetamines? "
   ]
  },
  {
   "cell_type": "code",
   "execution_count": 57,
   "metadata": {},
   "outputs": [
    {
     "data": {
      "text/plain": [
       "<bound method DataFrame.count of         hnum2  ATYPE asour  intage TXTZIP sex  dstat  PPAY    CHRGS      DX1  \\\n",
       "430         5      1     1       3    129   1      5     6    17641  T43622A   \n",
       "494         5      1     3       6  05401   1      5     1  26394.2  T43621A   \n",
       "990         6      1     3       5  05602   2      4     2  22617.2    M6282   \n",
       "1470        5      1     3      10    054   1      6     6  11351.3      G92   \n",
       "1482        5      1     4      10  05478   1      6     2  17070.7  T85528A   \n",
       "...       ...    ...   ...     ...    ...  ..    ...   ...      ...      ...   \n",
       "254060     12      1     3      14    051   2     12     1  2696.35     R410   \n",
       "255395      5      1     3       3    054   2      5     7  5199.35  T43622A   \n",
       "262198      5      1     3       2  05452   1      4    11  4468.86  T43622A   \n",
       "263500      5      1     3       3  05401   2      5     7   2292.4  T43621A   \n",
       "263620      5      1     3       8  05401   2      5     2  2411.65  T43621A   \n",
       "\n",
       "        ... cah vtres OBSFLAG AFLAG     UNIQ ADMID_QTR DISCD_QTR CHRGS_HCIA  \\\n",
       "430     ...   0     5       0     0    33485         1         1      17641   \n",
       "494     ...   0     1       0     1    38534         1         1    26394.2   \n",
       "990     ...   0     1       0     0    74260         1         1    22617.2   \n",
       "1470    ...   0     1       0     0   111392         1         1    11351.3   \n",
       "1482    ...   0     1       0     1   112743         1         1    17070.7   \n",
       "...     ...  ..   ...     ...   ...      ...       ...       ...        ...   \n",
       "254060  ...   1     1       0     0  1822417         4         4    2696.35   \n",
       "255395  ...   0     1       1     0  1851240         4         4    5199.35   \n",
       "262198  ...   0     1       0     0  1955169         4         4    4468.86   \n",
       "263500  ...   0     1       0     0  1967402         4         4     2292.4   \n",
       "263620  ...   0     1       0     0  1969013         4         4    2411.65   \n",
       "\n",
       "       overdose narcotics  \n",
       "430           1         1  \n",
       "494           1         1  \n",
       "990           1         1  \n",
       "1470          1         1  \n",
       "1482          1         1  \n",
       "...         ...       ...  \n",
       "254060        1         1  \n",
       "255395        1         1  \n",
       "262198        1         1  \n",
       "263500        1         1  \n",
       "263620        1         1  \n",
       "\n",
       "[156 rows x 72 columns]>"
      ]
     },
     "execution_count": 57,
     "metadata": {},
     "output_type": "execute_result"
    }
   ],
   "source": [
    "identified[identified['narcotics'] == 1].count\n",
    "#156"
   ]
  },
  {
   "cell_type": "code",
   "execution_count": null,
   "metadata": {},
   "outputs": [],
   "source": []
  },
  {
   "cell_type": "code",
   "execution_count": null,
   "metadata": {},
   "outputs": [],
   "source": []
  }
 ],
 "metadata": {
  "kernelspec": {
   "display_name": "Python 3",
   "language": "python",
   "name": "python3"
  },
  "language_info": {
   "codemirror_mode": {
    "name": "ipython",
    "version": 3
   },
   "file_extension": ".py",
   "mimetype": "text/x-python",
   "name": "python",
   "nbconvert_exporter": "python",
   "pygments_lexer": "ipython3",
   "version": "3.7.4"
  }
 },
 "nbformat": 4,
 "nbformat_minor": 2
}
